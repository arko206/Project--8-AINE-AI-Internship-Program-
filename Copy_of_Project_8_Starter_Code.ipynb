{
  "nbformat": 4,
  "nbformat_minor": 0,
  "metadata": {
    "kernelspec": {
      "display_name": "Python 3",
      "language": "python",
      "name": "python3"
    },
    "language_info": {
      "codemirror_mode": {
        "name": "ipython",
        "version": 3
      },
      "file_extension": ".py",
      "mimetype": "text/x-python",
      "name": "python",
      "nbconvert_exporter": "python",
      "pygments_lexer": "ipython3",
      "version": "3.8.5"
    },
    "colab": {
      "name": "Copy of Project 8 Starter Code.ipynb",
      "provenance": [],
      "collapsed_sections": []
    }
  },
  "cells": [
    {
      "cell_type": "markdown",
      "metadata": {
        "id": "WWbqxNLZlFII"
      },
      "source": [
        "# Project 8: Machine Learning for Predictive Analytics"
      ]
    },
    {
      "cell_type": "markdown",
      "metadata": {
        "id": "RCrmVhYDlFIJ"
      },
      "source": [
        "## Packages and setup"
      ]
    },
    {
      "cell_type": "code",
      "metadata": {
        "id": "duCWbBPRlFIK"
      },
      "source": [
        "import numpy as np\n",
        "import pandas as pd \n",
        "import seaborn as sns\n",
        "import matplotlib.pyplot as plt\n",
        "import os\n",
        "\n",
        "from scipy.stats import shapiro\n",
        "import scipy.stats as stats\n",
        "\n",
        "#parameter settings\n",
        "from IPython.core.interactiveshell import InteractiveShell\n",
        "InteractiveShell.ast_node_interactivity = \"all\"\n",
        "import warnings\n",
        "warnings.filterwarnings(\"ignore\")\n",
        "warnings.simplefilter(action='ignore', category=FutureWarning)"
      ],
      "execution_count": null,
      "outputs": []
    },
    {
      "cell_type": "markdown",
      "metadata": {
        "id": "VoDtZpyJlFIK"
      },
      "source": [
        "## Reading data and initial processing"
      ]
    },
    {
      "cell_type": "code",
      "metadata": {
        "id": "br8Y20g5lFIL",
        "colab": {
          "base_uri": "https://localhost:8080/"
        },
        "outputId": "7993f92a-54f2-45e9-dfa6-ad7116afc7d6"
      },
      "source": [
        "#edit the file location of raw data set\n",
        "from google.colab import drive\n",
        "drive.mount('/content/drive')"
      ],
      "execution_count": null,
      "outputs": [
        {
          "output_type": "stream",
          "name": "stdout",
          "text": [
            "Mounted at /content/drive\n"
          ]
        }
      ]
    },
    {
      "cell_type": "code",
      "source": [
        "cust_df = pd.read_csv('/content/drive/MyDrive/Telecom Data.csv')"
      ],
      "metadata": {
        "id": "aNKrfYfxPIrg"
      },
      "execution_count": null,
      "outputs": []
    },
    {
      "cell_type": "code",
      "source": [
        "cust_df.shape"
      ],
      "metadata": {
        "colab": {
          "base_uri": "https://localhost:8080/"
        },
        "id": "NEcynjiISFt2",
        "outputId": "054141e3-cc9f-4b30-c060-46b53aa24b42"
      },
      "execution_count": null,
      "outputs": [
        {
          "output_type": "execute_result",
          "data": {
            "text/plain": [
              "(51047, 58)"
            ]
          },
          "metadata": {},
          "execution_count": 5
        }
      ]
    },
    {
      "cell_type": "markdown",
      "metadata": {
        "id": "arTuXCYclFIL"
      },
      "source": [
        "## Exercise"
      ]
    },
    {
      "cell_type": "markdown",
      "metadata": {
        "id": "46n6OhqOlFIN"
      },
      "source": [
        "**## Placeholder for your analysis**"
      ]
    },
    {
      "cell_type": "code",
      "source": [
        "\n",
        "cust_df.size"
      ],
      "metadata": {
        "colab": {
          "base_uri": "https://localhost:8080/"
        },
        "id": "TBCMFISePj82",
        "outputId": "d9636058-4993-4618-9d22-5a4787d0ee65"
      },
      "execution_count": null,
      "outputs": [
        {
          "output_type": "execute_result",
          "data": {
            "text/plain": [
              "2960726"
            ]
          },
          "metadata": {},
          "execution_count": 6
        }
      ]
    },
    {
      "cell_type": "code",
      "source": [
        "cust_df.describe"
      ],
      "metadata": {
        "colab": {
          "base_uri": "https://localhost:8080/"
        },
        "id": "Xj_ECYlJP94w",
        "outputId": "e5db20a7-46db-4b4e-d6d5-037ae5fae9d0"
      },
      "execution_count": null,
      "outputs": [
        {
          "output_type": "execute_result",
          "data": {
            "text/plain": [
              "<bound method NDFrame.describe of        CustomerID Churn  MonthlyRevenue  ...  PrizmCode    Occupation  MaritalStatus\n",
              "0         3000002   Yes           24.00  ...   Suburban  Professional             No\n",
              "1         3000010   Yes           16.99  ...   Suburban  Professional            Yes\n",
              "2         3000014    No           38.00  ...       Town        Crafts            Yes\n",
              "3         3000022    No           82.28  ...      Other         Other             No\n",
              "4         3000026   Yes           17.14  ...      Other  Professional            Yes\n",
              "...           ...   ...             ...  ...        ...           ...            ...\n",
              "51042     3399958   Yes             NaN  ...   Suburban         Other            Yes\n",
              "51043     3399974    No           95.17  ...      Other         Other             No\n",
              "51044     3399978   Yes             NaN  ...      Other      Clerical             No\n",
              "51045     3399990    No             NaN  ...      Other         Other             No\n",
              "51046     3399994    No             NaN  ...      Other         Other        Unknown\n",
              "\n",
              "[51047 rows x 58 columns]>"
            ]
          },
          "metadata": {},
          "execution_count": 7
        }
      ]
    },
    {
      "cell_type": "code",
      "source": [
        "# Type your code here to explore and understand the data better\n",
        "cust_df.info()"
      ],
      "metadata": {
        "colab": {
          "base_uri": "https://localhost:8080/"
        },
        "id": "dL7u_4S4QFP-",
        "outputId": "b8fc1a93-630a-4d1f-b454-2130efd9824f"
      },
      "execution_count": null,
      "outputs": [
        {
          "output_type": "stream",
          "name": "stdout",
          "text": [
            "<class 'pandas.core.frame.DataFrame'>\n",
            "RangeIndex: 51047 entries, 0 to 51046\n",
            "Data columns (total 58 columns):\n",
            " #   Column                     Non-Null Count  Dtype  \n",
            "---  ------                     --------------  -----  \n",
            " 0   CustomerID                 51047 non-null  int64  \n",
            " 1   Churn                      51047 non-null  object \n",
            " 2   MonthlyRevenue             50891 non-null  float64\n",
            " 3   MonthlyMinutes             50891 non-null  float64\n",
            " 4   TotalRecurringCharge       50891 non-null  float64\n",
            " 5   DirectorAssistedCalls      50891 non-null  float64\n",
            " 6   OverageMinutes             50891 non-null  float64\n",
            " 7   RoamingCalls               50891 non-null  float64\n",
            " 8   PercChangeMinutes          50680 non-null  float64\n",
            " 9   PercChangeRevenues         50680 non-null  float64\n",
            " 10  DroppedCalls               51047 non-null  float64\n",
            " 11  BlockedCalls               51047 non-null  float64\n",
            " 12  UnansweredCalls            51047 non-null  float64\n",
            " 13  CustomerCareCalls          51047 non-null  float64\n",
            " 14  ThreewayCalls              51047 non-null  float64\n",
            " 15  ReceivedCalls              51047 non-null  float64\n",
            " 16  OutboundCalls              51047 non-null  float64\n",
            " 17  InboundCalls               51047 non-null  float64\n",
            " 18  PeakCallsInOut             51047 non-null  float64\n",
            " 19  OffPeakCallsInOut          51047 non-null  float64\n",
            " 20  DroppedBlockedCalls        51047 non-null  float64\n",
            " 21  CallForwardingCalls        51047 non-null  float64\n",
            " 22  CallWaitingCalls           51047 non-null  float64\n",
            " 23  MonthsInService            51047 non-null  int64  \n",
            " 24  UniqueSubs                 51047 non-null  int64  \n",
            " 25  ActiveSubs                 51047 non-null  int64  \n",
            " 26  ServiceArea                51023 non-null  object \n",
            " 27  Handsets                   51046 non-null  float64\n",
            " 28  HandsetModels              51046 non-null  float64\n",
            " 29  CurrentEquipmentDays       51046 non-null  float64\n",
            " 30  AgeHH1                     50138 non-null  float64\n",
            " 31  AgeHH2                     50138 non-null  float64\n",
            " 32  ChildrenInHH               51047 non-null  object \n",
            " 33  HandsetRefurbished         51047 non-null  object \n",
            " 34  HandsetWebCapable          51047 non-null  object \n",
            " 35  TruckOwner                 51047 non-null  object \n",
            " 36  RVOwner                    51047 non-null  object \n",
            " 37  Homeownership              51047 non-null  object \n",
            " 38  BuysViaMailOrder           51047 non-null  object \n",
            " 39  RespondsToMailOffers       51047 non-null  object \n",
            " 40  OptOutMailings             51047 non-null  object \n",
            " 41  NonUSTravel                51047 non-null  object \n",
            " 42  OwnsComputer               51047 non-null  object \n",
            " 43  HasCreditCard              51047 non-null  object \n",
            " 44  RetentionCalls             51047 non-null  int64  \n",
            " 45  RetentionOffersAccepted    51047 non-null  int64  \n",
            " 46  NewCellphoneUser           51047 non-null  object \n",
            " 47  NotNewCellphoneUser        51047 non-null  object \n",
            " 48  ReferralsMadeBySubscriber  51047 non-null  int64  \n",
            " 49  IncomeGroup                51047 non-null  int64  \n",
            " 50  OwnsMotorcycle             51047 non-null  object \n",
            " 51  AdjustmentsToCreditRating  51047 non-null  int64  \n",
            " 52  HandsetPrice               51047 non-null  object \n",
            " 53  MadeCallToRetentionTeam    51047 non-null  object \n",
            " 54  CreditRating               51047 non-null  object \n",
            " 55  PrizmCode                  51047 non-null  object \n",
            " 56  Occupation                 51047 non-null  object \n",
            " 57  MaritalStatus              51047 non-null  object \n",
            "dtypes: float64(26), int64(9), object(23)\n",
            "memory usage: 22.6+ MB\n"
          ]
        }
      ]
    },
    {
      "cell_type": "code",
      "metadata": {
        "id": "xDu2UNTvlFIO",
        "colab": {
          "base_uri": "https://localhost:8080/"
        },
        "outputId": "d7b522ce-cb57-47f0-c203-d2602c2c19e1"
      },
      "source": [
        "\n",
        "\n",
        "#e.g., identify the dimension of cust_df\n",
        "cust_df.shape"
      ],
      "execution_count": null,
      "outputs": [
        {
          "output_type": "execute_result",
          "data": {
            "text/plain": [
              "(51047, 58)"
            ]
          },
          "metadata": {},
          "execution_count": 9
        }
      ]
    },
    {
      "cell_type": "markdown",
      "metadata": {
        "id": "rsOVIvHSlFIO"
      },
      "source": [
        "## Q1. Detect and resolve problems in the data (Missing value, Outliers, Unexpected value, etc.)"
      ]
    },
    {
      "cell_type": "code",
      "source": [
        "cust_df[cust_df['MonthlyRevenue']==0]"
      ],
      "metadata": {
        "colab": {
          "base_uri": "https://localhost:8080/",
          "height": 258
        },
        "id": "xul3J6wYQQj2",
        "outputId": "e24f5729-2357-412a-d6c1-8d142ad0ffb9"
      },
      "execution_count": null,
      "outputs": [
        {
          "output_type": "execute_result",
          "data": {
            "text/html": [
              "<div>\n",
              "<style scoped>\n",
              "    .dataframe tbody tr th:only-of-type {\n",
              "        vertical-align: middle;\n",
              "    }\n",
              "\n",
              "    .dataframe tbody tr th {\n",
              "        vertical-align: top;\n",
              "    }\n",
              "\n",
              "    .dataframe thead th {\n",
              "        text-align: right;\n",
              "    }\n",
              "</style>\n",
              "<table border=\"1\" class=\"dataframe\">\n",
              "  <thead>\n",
              "    <tr style=\"text-align: right;\">\n",
              "      <th></th>\n",
              "      <th>CustomerID</th>\n",
              "      <th>Churn</th>\n",
              "      <th>MonthlyRevenue</th>\n",
              "      <th>MonthlyMinutes</th>\n",
              "      <th>TotalRecurringCharge</th>\n",
              "      <th>DirectorAssistedCalls</th>\n",
              "      <th>OverageMinutes</th>\n",
              "      <th>RoamingCalls</th>\n",
              "      <th>PercChangeMinutes</th>\n",
              "      <th>PercChangeRevenues</th>\n",
              "      <th>DroppedCalls</th>\n",
              "      <th>BlockedCalls</th>\n",
              "      <th>UnansweredCalls</th>\n",
              "      <th>CustomerCareCalls</th>\n",
              "      <th>ThreewayCalls</th>\n",
              "      <th>ReceivedCalls</th>\n",
              "      <th>OutboundCalls</th>\n",
              "      <th>InboundCalls</th>\n",
              "      <th>PeakCallsInOut</th>\n",
              "      <th>OffPeakCallsInOut</th>\n",
              "      <th>DroppedBlockedCalls</th>\n",
              "      <th>CallForwardingCalls</th>\n",
              "      <th>CallWaitingCalls</th>\n",
              "      <th>MonthsInService</th>\n",
              "      <th>UniqueSubs</th>\n",
              "      <th>ActiveSubs</th>\n",
              "      <th>ServiceArea</th>\n",
              "      <th>Handsets</th>\n",
              "      <th>HandsetModels</th>\n",
              "      <th>CurrentEquipmentDays</th>\n",
              "      <th>AgeHH1</th>\n",
              "      <th>AgeHH2</th>\n",
              "      <th>ChildrenInHH</th>\n",
              "      <th>HandsetRefurbished</th>\n",
              "      <th>HandsetWebCapable</th>\n",
              "      <th>TruckOwner</th>\n",
              "      <th>RVOwner</th>\n",
              "      <th>Homeownership</th>\n",
              "      <th>BuysViaMailOrder</th>\n",
              "      <th>RespondsToMailOffers</th>\n",
              "      <th>OptOutMailings</th>\n",
              "      <th>NonUSTravel</th>\n",
              "      <th>OwnsComputer</th>\n",
              "      <th>HasCreditCard</th>\n",
              "      <th>RetentionCalls</th>\n",
              "      <th>RetentionOffersAccepted</th>\n",
              "      <th>NewCellphoneUser</th>\n",
              "      <th>NotNewCellphoneUser</th>\n",
              "      <th>ReferralsMadeBySubscriber</th>\n",
              "      <th>IncomeGroup</th>\n",
              "      <th>OwnsMotorcycle</th>\n",
              "      <th>AdjustmentsToCreditRating</th>\n",
              "      <th>HandsetPrice</th>\n",
              "      <th>MadeCallToRetentionTeam</th>\n",
              "      <th>CreditRating</th>\n",
              "      <th>PrizmCode</th>\n",
              "      <th>Occupation</th>\n",
              "      <th>MaritalStatus</th>\n",
              "    </tr>\n",
              "  </thead>\n",
              "  <tbody>\n",
              "    <tr>\n",
              "      <th>12262</th>\n",
              "      <td>3096670</td>\n",
              "      <td>Yes</td>\n",
              "      <td>0.0</td>\n",
              "      <td>2.0</td>\n",
              "      <td>0.0</td>\n",
              "      <td>0.0</td>\n",
              "      <td>0.0</td>\n",
              "      <td>0.0</td>\n",
              "      <td>NaN</td>\n",
              "      <td>NaN</td>\n",
              "      <td>0.0</td>\n",
              "      <td>0.0</td>\n",
              "      <td>0.0</td>\n",
              "      <td>0.0</td>\n",
              "      <td>0.0</td>\n",
              "      <td>0.0</td>\n",
              "      <td>0.0</td>\n",
              "      <td>0.0</td>\n",
              "      <td>0.0</td>\n",
              "      <td>0.0</td>\n",
              "      <td>0.0</td>\n",
              "      <td>0.0</td>\n",
              "      <td>0.0</td>\n",
              "      <td>27</td>\n",
              "      <td>2</td>\n",
              "      <td>2</td>\n",
              "      <td>NMXELP915</td>\n",
              "      <td>2.0</td>\n",
              "      <td>2.0</td>\n",
              "      <td>597.0</td>\n",
              "      <td>0.0</td>\n",
              "      <td>0.0</td>\n",
              "      <td>No</td>\n",
              "      <td>No</td>\n",
              "      <td>Yes</td>\n",
              "      <td>No</td>\n",
              "      <td>No</td>\n",
              "      <td>Unknown</td>\n",
              "      <td>No</td>\n",
              "      <td>No</td>\n",
              "      <td>No</td>\n",
              "      <td>No</td>\n",
              "      <td>No</td>\n",
              "      <td>No</td>\n",
              "      <td>0</td>\n",
              "      <td>0</td>\n",
              "      <td>No</td>\n",
              "      <td>No</td>\n",
              "      <td>0</td>\n",
              "      <td>0</td>\n",
              "      <td>No</td>\n",
              "      <td>0</td>\n",
              "      <td>30</td>\n",
              "      <td>No</td>\n",
              "      <td>5-Low</td>\n",
              "      <td>Suburban</td>\n",
              "      <td>Other</td>\n",
              "      <td>Unknown</td>\n",
              "    </tr>\n",
              "    <tr>\n",
              "      <th>13127</th>\n",
              "      <td>3103410</td>\n",
              "      <td>Yes</td>\n",
              "      <td>0.0</td>\n",
              "      <td>55.0</td>\n",
              "      <td>0.0</td>\n",
              "      <td>0.0</td>\n",
              "      <td>0.0</td>\n",
              "      <td>0.0</td>\n",
              "      <td>NaN</td>\n",
              "      <td>NaN</td>\n",
              "      <td>0.0</td>\n",
              "      <td>0.0</td>\n",
              "      <td>1.3</td>\n",
              "      <td>5.3</td>\n",
              "      <td>0.0</td>\n",
              "      <td>7.1</td>\n",
              "      <td>0.7</td>\n",
              "      <td>0.7</td>\n",
              "      <td>11.3</td>\n",
              "      <td>2.0</td>\n",
              "      <td>0.0</td>\n",
              "      <td>0.0</td>\n",
              "      <td>0.0</td>\n",
              "      <td>26</td>\n",
              "      <td>2</td>\n",
              "      <td>2</td>\n",
              "      <td>SANSAN210</td>\n",
              "      <td>3.0</td>\n",
              "      <td>3.0</td>\n",
              "      <td>371.0</td>\n",
              "      <td>28.0</td>\n",
              "      <td>30.0</td>\n",
              "      <td>No</td>\n",
              "      <td>No</td>\n",
              "      <td>Yes</td>\n",
              "      <td>No</td>\n",
              "      <td>No</td>\n",
              "      <td>Unknown</td>\n",
              "      <td>No</td>\n",
              "      <td>Yes</td>\n",
              "      <td>No</td>\n",
              "      <td>No</td>\n",
              "      <td>No</td>\n",
              "      <td>Yes</td>\n",
              "      <td>0</td>\n",
              "      <td>0</td>\n",
              "      <td>No</td>\n",
              "      <td>Yes</td>\n",
              "      <td>0</td>\n",
              "      <td>4</td>\n",
              "      <td>No</td>\n",
              "      <td>0</td>\n",
              "      <td>10</td>\n",
              "      <td>No</td>\n",
              "      <td>4-Medium</td>\n",
              "      <td>Other</td>\n",
              "      <td>Other</td>\n",
              "      <td>Unknown</td>\n",
              "    </tr>\n",
              "    <tr>\n",
              "      <th>42051</th>\n",
              "      <td>3334666</td>\n",
              "      <td>No</td>\n",
              "      <td>0.0</td>\n",
              "      <td>0.0</td>\n",
              "      <td>0.0</td>\n",
              "      <td>0.0</td>\n",
              "      <td>0.0</td>\n",
              "      <td>0.0</td>\n",
              "      <td>0.0</td>\n",
              "      <td>0.0</td>\n",
              "      <td>0.0</td>\n",
              "      <td>0.0</td>\n",
              "      <td>0.0</td>\n",
              "      <td>0.0</td>\n",
              "      <td>0.0</td>\n",
              "      <td>0.0</td>\n",
              "      <td>0.0</td>\n",
              "      <td>0.0</td>\n",
              "      <td>0.0</td>\n",
              "      <td>0.0</td>\n",
              "      <td>0.0</td>\n",
              "      <td>0.0</td>\n",
              "      <td>0.0</td>\n",
              "      <td>11</td>\n",
              "      <td>2</td>\n",
              "      <td>2</td>\n",
              "      <td>OKCOKC405</td>\n",
              "      <td>1.0</td>\n",
              "      <td>1.0</td>\n",
              "      <td>307.0</td>\n",
              "      <td>0.0</td>\n",
              "      <td>0.0</td>\n",
              "      <td>No</td>\n",
              "      <td>No</td>\n",
              "      <td>Yes</td>\n",
              "      <td>No</td>\n",
              "      <td>No</td>\n",
              "      <td>Unknown</td>\n",
              "      <td>No</td>\n",
              "      <td>No</td>\n",
              "      <td>No</td>\n",
              "      <td>No</td>\n",
              "      <td>No</td>\n",
              "      <td>No</td>\n",
              "      <td>0</td>\n",
              "      <td>0</td>\n",
              "      <td>No</td>\n",
              "      <td>Yes</td>\n",
              "      <td>0</td>\n",
              "      <td>0</td>\n",
              "      <td>No</td>\n",
              "      <td>0</td>\n",
              "      <td>Unknown</td>\n",
              "      <td>No</td>\n",
              "      <td>5-Low</td>\n",
              "      <td>Other</td>\n",
              "      <td>Other</td>\n",
              "      <td>Unknown</td>\n",
              "    </tr>\n",
              "    <tr>\n",
              "      <th>49920</th>\n",
              "      <td>3391282</td>\n",
              "      <td>No</td>\n",
              "      <td>0.0</td>\n",
              "      <td>1.0</td>\n",
              "      <td>0.0</td>\n",
              "      <td>0.0</td>\n",
              "      <td>0.0</td>\n",
              "      <td>0.0</td>\n",
              "      <td>0.0</td>\n",
              "      <td>0.0</td>\n",
              "      <td>0.0</td>\n",
              "      <td>0.0</td>\n",
              "      <td>0.0</td>\n",
              "      <td>0.0</td>\n",
              "      <td>0.0</td>\n",
              "      <td>0.0</td>\n",
              "      <td>0.0</td>\n",
              "      <td>0.0</td>\n",
              "      <td>0.0</td>\n",
              "      <td>0.0</td>\n",
              "      <td>0.0</td>\n",
              "      <td>0.0</td>\n",
              "      <td>0.0</td>\n",
              "      <td>59</td>\n",
              "      <td>2</td>\n",
              "      <td>2</td>\n",
              "      <td>NEVCHU619</td>\n",
              "      <td>2.0</td>\n",
              "      <td>2.0</td>\n",
              "      <td>866.0</td>\n",
              "      <td>26.0</td>\n",
              "      <td>0.0</td>\n",
              "      <td>No</td>\n",
              "      <td>No</td>\n",
              "      <td>No</td>\n",
              "      <td>No</td>\n",
              "      <td>No</td>\n",
              "      <td>Known</td>\n",
              "      <td>No</td>\n",
              "      <td>No</td>\n",
              "      <td>No</td>\n",
              "      <td>No</td>\n",
              "      <td>No</td>\n",
              "      <td>Yes</td>\n",
              "      <td>0</td>\n",
              "      <td>0</td>\n",
              "      <td>No</td>\n",
              "      <td>No</td>\n",
              "      <td>0</td>\n",
              "      <td>4</td>\n",
              "      <td>No</td>\n",
              "      <td>1</td>\n",
              "      <td>30</td>\n",
              "      <td>No</td>\n",
              "      <td>1-Highest</td>\n",
              "      <td>Suburban</td>\n",
              "      <td>Other</td>\n",
              "      <td>Yes</td>\n",
              "    </tr>\n",
              "    <tr>\n",
              "      <th>49946</th>\n",
              "      <td>3391442</td>\n",
              "      <td>No</td>\n",
              "      <td>0.0</td>\n",
              "      <td>1.0</td>\n",
              "      <td>0.0</td>\n",
              "      <td>0.0</td>\n",
              "      <td>0.0</td>\n",
              "      <td>0.0</td>\n",
              "      <td>0.0</td>\n",
              "      <td>0.0</td>\n",
              "      <td>0.0</td>\n",
              "      <td>0.0</td>\n",
              "      <td>0.0</td>\n",
              "      <td>0.0</td>\n",
              "      <td>0.0</td>\n",
              "      <td>0.0</td>\n",
              "      <td>0.0</td>\n",
              "      <td>0.0</td>\n",
              "      <td>0.0</td>\n",
              "      <td>0.3</td>\n",
              "      <td>0.0</td>\n",
              "      <td>0.0</td>\n",
              "      <td>0.0</td>\n",
              "      <td>55</td>\n",
              "      <td>1</td>\n",
              "      <td>1</td>\n",
              "      <td>NEVOCN760</td>\n",
              "      <td>1.0</td>\n",
              "      <td>1.0</td>\n",
              "      <td>1671.0</td>\n",
              "      <td>42.0</td>\n",
              "      <td>36.0</td>\n",
              "      <td>No</td>\n",
              "      <td>No</td>\n",
              "      <td>No</td>\n",
              "      <td>No</td>\n",
              "      <td>No</td>\n",
              "      <td>Known</td>\n",
              "      <td>No</td>\n",
              "      <td>No</td>\n",
              "      <td>No</td>\n",
              "      <td>No</td>\n",
              "      <td>No</td>\n",
              "      <td>No</td>\n",
              "      <td>0</td>\n",
              "      <td>0</td>\n",
              "      <td>No</td>\n",
              "      <td>No</td>\n",
              "      <td>0</td>\n",
              "      <td>5</td>\n",
              "      <td>No</td>\n",
              "      <td>0</td>\n",
              "      <td>Unknown</td>\n",
              "      <td>No</td>\n",
              "      <td>1-Highest</td>\n",
              "      <td>Other</td>\n",
              "      <td>Other</td>\n",
              "      <td>Unknown</td>\n",
              "    </tr>\n",
              "    <tr>\n",
              "      <th>51035</th>\n",
              "      <td>3399894</td>\n",
              "      <td>No</td>\n",
              "      <td>0.0</td>\n",
              "      <td>76.0</td>\n",
              "      <td>30.0</td>\n",
              "      <td>0.0</td>\n",
              "      <td>0.0</td>\n",
              "      <td>0.0</td>\n",
              "      <td>0.0</td>\n",
              "      <td>0.0</td>\n",
              "      <td>5.7</td>\n",
              "      <td>1.0</td>\n",
              "      <td>13.0</td>\n",
              "      <td>0.7</td>\n",
              "      <td>0.0</td>\n",
              "      <td>11.2</td>\n",
              "      <td>5.7</td>\n",
              "      <td>0.0</td>\n",
              "      <td>29.3</td>\n",
              "      <td>17.0</td>\n",
              "      <td>6.7</td>\n",
              "      <td>0.0</td>\n",
              "      <td>0.0</td>\n",
              "      <td>30</td>\n",
              "      <td>1</td>\n",
              "      <td>1</td>\n",
              "      <td>NEVELC619</td>\n",
              "      <td>1.0</td>\n",
              "      <td>1.0</td>\n",
              "      <td>883.0</td>\n",
              "      <td>48.0</td>\n",
              "      <td>48.0</td>\n",
              "      <td>Yes</td>\n",
              "      <td>No</td>\n",
              "      <td>Yes</td>\n",
              "      <td>No</td>\n",
              "      <td>No</td>\n",
              "      <td>Known</td>\n",
              "      <td>No</td>\n",
              "      <td>No</td>\n",
              "      <td>No</td>\n",
              "      <td>No</td>\n",
              "      <td>Yes</td>\n",
              "      <td>Yes</td>\n",
              "      <td>0</td>\n",
              "      <td>0</td>\n",
              "      <td>No</td>\n",
              "      <td>No</td>\n",
              "      <td>0</td>\n",
              "      <td>4</td>\n",
              "      <td>No</td>\n",
              "      <td>0</td>\n",
              "      <td>Unknown</td>\n",
              "      <td>No</td>\n",
              "      <td>2-High</td>\n",
              "      <td>Other</td>\n",
              "      <td>Professional</td>\n",
              "      <td>No</td>\n",
              "    </tr>\n",
              "  </tbody>\n",
              "</table>\n",
              "</div>"
            ],
            "text/plain": [
              "       CustomerID Churn  MonthlyRevenue  ...  PrizmCode    Occupation  MaritalStatus\n",
              "12262     3096670   Yes             0.0  ...   Suburban         Other        Unknown\n",
              "13127     3103410   Yes             0.0  ...      Other         Other        Unknown\n",
              "42051     3334666    No             0.0  ...      Other         Other        Unknown\n",
              "49920     3391282    No             0.0  ...   Suburban         Other            Yes\n",
              "49946     3391442    No             0.0  ...      Other         Other        Unknown\n",
              "51035     3399894    No             0.0  ...      Other  Professional             No\n",
              "\n",
              "[6 rows x 58 columns]"
            ]
          },
          "metadata": {},
          "execution_count": 10
        }
      ]
    },
    {
      "cell_type": "markdown",
      "metadata": {
        "id": "qoX4uCUIlFIP"
      },
      "source": [
        "### Q1.1 How many customers had zero monthly revenue?\n",
        "There are 6 customers with monthly revenue 0"
      ]
    },
    {
      "cell_type": "code",
      "metadata": {
        "id": "qSmjZ8QQlFIP"
      },
      "source": [
        "#How many customers had zero monthly revenue?\n",
        "#Exclude the customers with zero monthly revenue from cust_df and from any subsequent analysis\n",
        "cust_df = cust_df[cust_df['MonthlyRevenue']!=0]\n"
      ],
      "execution_count": null,
      "outputs": []
    },
    {
      "cell_type": "markdown",
      "metadata": {
        "id": "IEil-5AblFIP"
      },
      "source": [
        "### Q1.2 How many columns has missing values percentage > 5%"
      ]
    },
    {
      "cell_type": "code",
      "metadata": {
        "id": "9r1UrF0PlFIQ",
        "colab": {
          "base_uri": "https://localhost:8080/",
          "height": 1000
        },
        "outputId": "0a5feff1-9fed-4b68-d8da-ac645a77bf65"
      },
      "source": [
        "#Calculate for each column % of missing value in the data\n",
        "#How many columns has missing values percentage > 5%\n",
        "#What strategy should be used for imputation?\n",
        "percent_missing = cust_df.isnull().sum() * 100 / len(cust_df)\n",
        "missing_value_df = pd.DataFrame({'column_name': cust_df.columns,\n",
        "                                 'percent_missing': percent_missing}) \n",
        "missing_value_df"
      ],
      "execution_count": null,
      "outputs": [
        {
          "output_type": "execute_result",
          "data": {
            "text/html": [
              "<div>\n",
              "<style scoped>\n",
              "    .dataframe tbody tr th:only-of-type {\n",
              "        vertical-align: middle;\n",
              "    }\n",
              "\n",
              "    .dataframe tbody tr th {\n",
              "        vertical-align: top;\n",
              "    }\n",
              "\n",
              "    .dataframe thead th {\n",
              "        text-align: right;\n",
              "    }\n",
              "</style>\n",
              "<table border=\"1\" class=\"dataframe\">\n",
              "  <thead>\n",
              "    <tr style=\"text-align: right;\">\n",
              "      <th></th>\n",
              "      <th>column_name</th>\n",
              "      <th>percent_missing</th>\n",
              "    </tr>\n",
              "  </thead>\n",
              "  <tbody>\n",
              "    <tr>\n",
              "      <th>CustomerID</th>\n",
              "      <td>CustomerID</td>\n",
              "      <td>0.000000</td>\n",
              "    </tr>\n",
              "    <tr>\n",
              "      <th>Churn</th>\n",
              "      <td>Churn</td>\n",
              "      <td>0.000000</td>\n",
              "    </tr>\n",
              "    <tr>\n",
              "      <th>MonthlyRevenue</th>\n",
              "      <td>MonthlyRevenue</td>\n",
              "      <td>0.305637</td>\n",
              "    </tr>\n",
              "    <tr>\n",
              "      <th>MonthlyMinutes</th>\n",
              "      <td>MonthlyMinutes</td>\n",
              "      <td>0.305637</td>\n",
              "    </tr>\n",
              "    <tr>\n",
              "      <th>TotalRecurringCharge</th>\n",
              "      <td>TotalRecurringCharge</td>\n",
              "      <td>0.305637</td>\n",
              "    </tr>\n",
              "    <tr>\n",
              "      <th>DirectorAssistedCalls</th>\n",
              "      <td>DirectorAssistedCalls</td>\n",
              "      <td>0.305637</td>\n",
              "    </tr>\n",
              "    <tr>\n",
              "      <th>OverageMinutes</th>\n",
              "      <td>OverageMinutes</td>\n",
              "      <td>0.305637</td>\n",
              "    </tr>\n",
              "    <tr>\n",
              "      <th>RoamingCalls</th>\n",
              "      <td>RoamingCalls</td>\n",
              "      <td>0.305637</td>\n",
              "    </tr>\n",
              "    <tr>\n",
              "      <th>PercChangeMinutes</th>\n",
              "      <td>PercChangeMinutes</td>\n",
              "      <td>0.715111</td>\n",
              "    </tr>\n",
              "    <tr>\n",
              "      <th>PercChangeRevenues</th>\n",
              "      <td>PercChangeRevenues</td>\n",
              "      <td>0.715111</td>\n",
              "    </tr>\n",
              "    <tr>\n",
              "      <th>DroppedCalls</th>\n",
              "      <td>DroppedCalls</td>\n",
              "      <td>0.000000</td>\n",
              "    </tr>\n",
              "    <tr>\n",
              "      <th>BlockedCalls</th>\n",
              "      <td>BlockedCalls</td>\n",
              "      <td>0.000000</td>\n",
              "    </tr>\n",
              "    <tr>\n",
              "      <th>UnansweredCalls</th>\n",
              "      <td>UnansweredCalls</td>\n",
              "      <td>0.000000</td>\n",
              "    </tr>\n",
              "    <tr>\n",
              "      <th>CustomerCareCalls</th>\n",
              "      <td>CustomerCareCalls</td>\n",
              "      <td>0.000000</td>\n",
              "    </tr>\n",
              "    <tr>\n",
              "      <th>ThreewayCalls</th>\n",
              "      <td>ThreewayCalls</td>\n",
              "      <td>0.000000</td>\n",
              "    </tr>\n",
              "    <tr>\n",
              "      <th>ReceivedCalls</th>\n",
              "      <td>ReceivedCalls</td>\n",
              "      <td>0.000000</td>\n",
              "    </tr>\n",
              "    <tr>\n",
              "      <th>OutboundCalls</th>\n",
              "      <td>OutboundCalls</td>\n",
              "      <td>0.000000</td>\n",
              "    </tr>\n",
              "    <tr>\n",
              "      <th>InboundCalls</th>\n",
              "      <td>InboundCalls</td>\n",
              "      <td>0.000000</td>\n",
              "    </tr>\n",
              "    <tr>\n",
              "      <th>PeakCallsInOut</th>\n",
              "      <td>PeakCallsInOut</td>\n",
              "      <td>0.000000</td>\n",
              "    </tr>\n",
              "    <tr>\n",
              "      <th>OffPeakCallsInOut</th>\n",
              "      <td>OffPeakCallsInOut</td>\n",
              "      <td>0.000000</td>\n",
              "    </tr>\n",
              "    <tr>\n",
              "      <th>DroppedBlockedCalls</th>\n",
              "      <td>DroppedBlockedCalls</td>\n",
              "      <td>0.000000</td>\n",
              "    </tr>\n",
              "    <tr>\n",
              "      <th>CallForwardingCalls</th>\n",
              "      <td>CallForwardingCalls</td>\n",
              "      <td>0.000000</td>\n",
              "    </tr>\n",
              "    <tr>\n",
              "      <th>CallWaitingCalls</th>\n",
              "      <td>CallWaitingCalls</td>\n",
              "      <td>0.000000</td>\n",
              "    </tr>\n",
              "    <tr>\n",
              "      <th>MonthsInService</th>\n",
              "      <td>MonthsInService</td>\n",
              "      <td>0.000000</td>\n",
              "    </tr>\n",
              "    <tr>\n",
              "      <th>UniqueSubs</th>\n",
              "      <td>UniqueSubs</td>\n",
              "      <td>0.000000</td>\n",
              "    </tr>\n",
              "    <tr>\n",
              "      <th>ActiveSubs</th>\n",
              "      <td>ActiveSubs</td>\n",
              "      <td>0.000000</td>\n",
              "    </tr>\n",
              "    <tr>\n",
              "      <th>ServiceArea</th>\n",
              "      <td>ServiceArea</td>\n",
              "      <td>0.047021</td>\n",
              "    </tr>\n",
              "    <tr>\n",
              "      <th>Handsets</th>\n",
              "      <td>Handsets</td>\n",
              "      <td>0.001959</td>\n",
              "    </tr>\n",
              "    <tr>\n",
              "      <th>HandsetModels</th>\n",
              "      <td>HandsetModels</td>\n",
              "      <td>0.001959</td>\n",
              "    </tr>\n",
              "    <tr>\n",
              "      <th>CurrentEquipmentDays</th>\n",
              "      <td>CurrentEquipmentDays</td>\n",
              "      <td>0.001959</td>\n",
              "    </tr>\n",
              "    <tr>\n",
              "      <th>AgeHH1</th>\n",
              "      <td>AgeHH1</td>\n",
              "      <td>1.780921</td>\n",
              "    </tr>\n",
              "    <tr>\n",
              "      <th>AgeHH2</th>\n",
              "      <td>AgeHH2</td>\n",
              "      <td>1.780921</td>\n",
              "    </tr>\n",
              "    <tr>\n",
              "      <th>ChildrenInHH</th>\n",
              "      <td>ChildrenInHH</td>\n",
              "      <td>0.000000</td>\n",
              "    </tr>\n",
              "    <tr>\n",
              "      <th>HandsetRefurbished</th>\n",
              "      <td>HandsetRefurbished</td>\n",
              "      <td>0.000000</td>\n",
              "    </tr>\n",
              "    <tr>\n",
              "      <th>HandsetWebCapable</th>\n",
              "      <td>HandsetWebCapable</td>\n",
              "      <td>0.000000</td>\n",
              "    </tr>\n",
              "    <tr>\n",
              "      <th>TruckOwner</th>\n",
              "      <td>TruckOwner</td>\n",
              "      <td>0.000000</td>\n",
              "    </tr>\n",
              "    <tr>\n",
              "      <th>RVOwner</th>\n",
              "      <td>RVOwner</td>\n",
              "      <td>0.000000</td>\n",
              "    </tr>\n",
              "    <tr>\n",
              "      <th>Homeownership</th>\n",
              "      <td>Homeownership</td>\n",
              "      <td>0.000000</td>\n",
              "    </tr>\n",
              "    <tr>\n",
              "      <th>BuysViaMailOrder</th>\n",
              "      <td>BuysViaMailOrder</td>\n",
              "      <td>0.000000</td>\n",
              "    </tr>\n",
              "    <tr>\n",
              "      <th>RespondsToMailOffers</th>\n",
              "      <td>RespondsToMailOffers</td>\n",
              "      <td>0.000000</td>\n",
              "    </tr>\n",
              "    <tr>\n",
              "      <th>OptOutMailings</th>\n",
              "      <td>OptOutMailings</td>\n",
              "      <td>0.000000</td>\n",
              "    </tr>\n",
              "    <tr>\n",
              "      <th>NonUSTravel</th>\n",
              "      <td>NonUSTravel</td>\n",
              "      <td>0.000000</td>\n",
              "    </tr>\n",
              "    <tr>\n",
              "      <th>OwnsComputer</th>\n",
              "      <td>OwnsComputer</td>\n",
              "      <td>0.000000</td>\n",
              "    </tr>\n",
              "    <tr>\n",
              "      <th>HasCreditCard</th>\n",
              "      <td>HasCreditCard</td>\n",
              "      <td>0.000000</td>\n",
              "    </tr>\n",
              "    <tr>\n",
              "      <th>RetentionCalls</th>\n",
              "      <td>RetentionCalls</td>\n",
              "      <td>0.000000</td>\n",
              "    </tr>\n",
              "    <tr>\n",
              "      <th>RetentionOffersAccepted</th>\n",
              "      <td>RetentionOffersAccepted</td>\n",
              "      <td>0.000000</td>\n",
              "    </tr>\n",
              "    <tr>\n",
              "      <th>NewCellphoneUser</th>\n",
              "      <td>NewCellphoneUser</td>\n",
              "      <td>0.000000</td>\n",
              "    </tr>\n",
              "    <tr>\n",
              "      <th>NotNewCellphoneUser</th>\n",
              "      <td>NotNewCellphoneUser</td>\n",
              "      <td>0.000000</td>\n",
              "    </tr>\n",
              "    <tr>\n",
              "      <th>ReferralsMadeBySubscriber</th>\n",
              "      <td>ReferralsMadeBySubscriber</td>\n",
              "      <td>0.000000</td>\n",
              "    </tr>\n",
              "    <tr>\n",
              "      <th>IncomeGroup</th>\n",
              "      <td>IncomeGroup</td>\n",
              "      <td>0.000000</td>\n",
              "    </tr>\n",
              "    <tr>\n",
              "      <th>OwnsMotorcycle</th>\n",
              "      <td>OwnsMotorcycle</td>\n",
              "      <td>0.000000</td>\n",
              "    </tr>\n",
              "    <tr>\n",
              "      <th>AdjustmentsToCreditRating</th>\n",
              "      <td>AdjustmentsToCreditRating</td>\n",
              "      <td>0.000000</td>\n",
              "    </tr>\n",
              "    <tr>\n",
              "      <th>HandsetPrice</th>\n",
              "      <td>HandsetPrice</td>\n",
              "      <td>0.000000</td>\n",
              "    </tr>\n",
              "    <tr>\n",
              "      <th>MadeCallToRetentionTeam</th>\n",
              "      <td>MadeCallToRetentionTeam</td>\n",
              "      <td>0.000000</td>\n",
              "    </tr>\n",
              "    <tr>\n",
              "      <th>CreditRating</th>\n",
              "      <td>CreditRating</td>\n",
              "      <td>0.000000</td>\n",
              "    </tr>\n",
              "    <tr>\n",
              "      <th>PrizmCode</th>\n",
              "      <td>PrizmCode</td>\n",
              "      <td>0.000000</td>\n",
              "    </tr>\n",
              "    <tr>\n",
              "      <th>Occupation</th>\n",
              "      <td>Occupation</td>\n",
              "      <td>0.000000</td>\n",
              "    </tr>\n",
              "    <tr>\n",
              "      <th>MaritalStatus</th>\n",
              "      <td>MaritalStatus</td>\n",
              "      <td>0.000000</td>\n",
              "    </tr>\n",
              "  </tbody>\n",
              "</table>\n",
              "</div>"
            ],
            "text/plain": [
              "                                         column_name  percent_missing\n",
              "CustomerID                                CustomerID         0.000000\n",
              "Churn                                          Churn         0.000000\n",
              "MonthlyRevenue                        MonthlyRevenue         0.305637\n",
              "MonthlyMinutes                        MonthlyMinutes         0.305637\n",
              "TotalRecurringCharge            TotalRecurringCharge         0.305637\n",
              "DirectorAssistedCalls          DirectorAssistedCalls         0.305637\n",
              "OverageMinutes                        OverageMinutes         0.305637\n",
              "RoamingCalls                            RoamingCalls         0.305637\n",
              "PercChangeMinutes                  PercChangeMinutes         0.715111\n",
              "PercChangeRevenues                PercChangeRevenues         0.715111\n",
              "DroppedCalls                            DroppedCalls         0.000000\n",
              "BlockedCalls                            BlockedCalls         0.000000\n",
              "UnansweredCalls                      UnansweredCalls         0.000000\n",
              "CustomerCareCalls                  CustomerCareCalls         0.000000\n",
              "ThreewayCalls                          ThreewayCalls         0.000000\n",
              "ReceivedCalls                          ReceivedCalls         0.000000\n",
              "OutboundCalls                          OutboundCalls         0.000000\n",
              "InboundCalls                            InboundCalls         0.000000\n",
              "PeakCallsInOut                        PeakCallsInOut         0.000000\n",
              "OffPeakCallsInOut                  OffPeakCallsInOut         0.000000\n",
              "DroppedBlockedCalls              DroppedBlockedCalls         0.000000\n",
              "CallForwardingCalls              CallForwardingCalls         0.000000\n",
              "CallWaitingCalls                    CallWaitingCalls         0.000000\n",
              "MonthsInService                      MonthsInService         0.000000\n",
              "UniqueSubs                                UniqueSubs         0.000000\n",
              "ActiveSubs                                ActiveSubs         0.000000\n",
              "ServiceArea                              ServiceArea         0.047021\n",
              "Handsets                                    Handsets         0.001959\n",
              "HandsetModels                          HandsetModels         0.001959\n",
              "CurrentEquipmentDays            CurrentEquipmentDays         0.001959\n",
              "AgeHH1                                        AgeHH1         1.780921\n",
              "AgeHH2                                        AgeHH2         1.780921\n",
              "ChildrenInHH                            ChildrenInHH         0.000000\n",
              "HandsetRefurbished                HandsetRefurbished         0.000000\n",
              "HandsetWebCapable                  HandsetWebCapable         0.000000\n",
              "TruckOwner                                TruckOwner         0.000000\n",
              "RVOwner                                      RVOwner         0.000000\n",
              "Homeownership                          Homeownership         0.000000\n",
              "BuysViaMailOrder                    BuysViaMailOrder         0.000000\n",
              "RespondsToMailOffers            RespondsToMailOffers         0.000000\n",
              "OptOutMailings                        OptOutMailings         0.000000\n",
              "NonUSTravel                              NonUSTravel         0.000000\n",
              "OwnsComputer                            OwnsComputer         0.000000\n",
              "HasCreditCard                          HasCreditCard         0.000000\n",
              "RetentionCalls                        RetentionCalls         0.000000\n",
              "RetentionOffersAccepted      RetentionOffersAccepted         0.000000\n",
              "NewCellphoneUser                    NewCellphoneUser         0.000000\n",
              "NotNewCellphoneUser              NotNewCellphoneUser         0.000000\n",
              "ReferralsMadeBySubscriber  ReferralsMadeBySubscriber         0.000000\n",
              "IncomeGroup                              IncomeGroup         0.000000\n",
              "OwnsMotorcycle                        OwnsMotorcycle         0.000000\n",
              "AdjustmentsToCreditRating  AdjustmentsToCreditRating         0.000000\n",
              "HandsetPrice                            HandsetPrice         0.000000\n",
              "MadeCallToRetentionTeam      MadeCallToRetentionTeam         0.000000\n",
              "CreditRating                            CreditRating         0.000000\n",
              "PrizmCode                                  PrizmCode         0.000000\n",
              "Occupation                                Occupation         0.000000\n",
              "MaritalStatus                          MaritalStatus         0.000000"
            ]
          },
          "metadata": {},
          "execution_count": 12
        }
      ]
    },
    {
      "cell_type": "markdown",
      "metadata": {
        "id": "wtaCwTMqlFIQ"
      },
      "source": [
        "<mark>__Result:__\n",
        "    \n",
        "No Columns are Having Missing Values more than 5%. So we can drop those rows which has missing values as the number of missing values are less"
      ]
    },
    {
      "cell_type": "code",
      "source": [
        "cust_df.dropna(axis=0, inplace=True)"
      ],
      "metadata": {
        "id": "xJGIJAcIUIYF"
      },
      "execution_count": null,
      "outputs": []
    },
    {
      "cell_type": "code",
      "source": [
        "cust_df.shape"
      ],
      "metadata": {
        "colab": {
          "base_uri": "https://localhost:8080/"
        },
        "id": "QUErJY0FUPO8",
        "outputId": "9c83acf0-c7be-4318-9423-2ac1f3c19d81"
      },
      "execution_count": null,
      "outputs": [
        {
          "output_type": "execute_result",
          "data": {
            "text/plain": [
              "(49748, 58)"
            ]
          },
          "metadata": {},
          "execution_count": 14
        }
      ]
    },
    {
      "cell_type": "markdown",
      "metadata": {
        "id": "MMq6xiX_lFIQ"
      },
      "source": [
        "### Q1.3 For columns, \"UniqueSubs\" and \"DirectorAssistedCalls\" remove outliers, if any"
      ]
    },
    {
      "cell_type": "code",
      "metadata": {
        "id": "RurTZpXRlFIR",
        "outputId": "f1194295-405f-4e22-c0fe-83638eb5b384",
        "colab": {
          "base_uri": "https://localhost:8080/",
          "height": 298
        }
      },
      "source": [
        "#plot box plot using pandas for columns \"UniqueSubs\" and \"DirectorAssistedCalls\"\n",
        "cols=[\"UniqueSubs\",\"DirectorAssistedCalls\"]\n",
        "cust_df.boxplot(column=cols)\n",
        "plt.title('Boxplot')"
      ],
      "execution_count": null,
      "outputs": [
        {
          "output_type": "execute_result",
          "data": {
            "text/plain": [
              "<matplotlib.axes._subplots.AxesSubplot at 0x7fd90b8fa110>"
            ]
          },
          "metadata": {},
          "execution_count": 15
        },
        {
          "output_type": "execute_result",
          "data": {
            "text/plain": [
              "Text(0.5, 1.0, 'Boxplot')"
            ]
          },
          "metadata": {},
          "execution_count": 15
        },
        {
          "output_type": "display_data",
          "data": {
            "image/png": "[encoded data removed]",
            "text/plain": [
              "<Figure size 432x288 with 1 Axes>"
            ]
          },
          "metadata": {
            "needs_background": "light"
          }
        }
      ]
    },
    {
      "cell_type": "code",
      "metadata": {
        "id": "MXMbtk5TlFIS",
        "colab": {
          "base_uri": "https://localhost:8080/",
          "height": 337
        },
        "outputId": "535ac434-3772-4a96-e814-708fca164370"
      },
      "source": [
        "#Remove top 1% outliers from the above mentioned two columns and plot the box plot again\n",
        "#Use \"quantile\" function to identify top 1% outliers\n",
        "\n",
        "print(cust_df[cols].quantile(0.99))\n",
        "\n",
        "cust_df = cust_df[(cust_df['UniqueSubs']<=5) & (cust_df['DirectorAssistedCalls']<=9.65)]\n",
        "\n",
        "cust_df.boxplot(column=cols)"
      ],
      "execution_count": null,
      "outputs": [
        {
          "output_type": "stream",
          "name": "stdout",
          "text": [
            "UniqueSubs               5.00\n",
            "DirectorAssistedCalls    9.65\n",
            "Name: 0.99, dtype: float64\n"
          ]
        },
        {
          "output_type": "execute_result",
          "data": {
            "text/plain": [
              "<matplotlib.axes._subplots.AxesSubplot at 0x7fd90b938a90>"
            ]
          },
          "metadata": {},
          "execution_count": 16
        },
        {
          "output_type": "display_data",
          "data": {
            "image/png": "[encoded data removed]",
            "text/plain": [
              "<Figure size 432x288 with 1 Axes>"
            ]
          },
          "metadata": {
            "needs_background": "light"
          }
        }
      ]
    },
    {
      "cell_type": "markdown",
      "metadata": {
        "id": "j9nGdg_jlFIS"
      },
      "source": [
        "## Q2. Perform exploratory analysis to analyze customer churn"
      ]
    },
    {
      "cell_type": "markdown",
      "metadata": {
        "id": "kuLvZj8LlFIS"
      },
      "source": [
        "### Q2.1 Does customers with high overage minutes also have high revenue?"
      ]
    },
    {
      "cell_type": "code",
      "metadata": {
        "id": "9iwrU-MelFIT",
        "colab": {
          "base_uri": "https://localhost:8080/",
          "height": 296
        },
        "outputId": "8318cbbc-9a22-4849-91a6-0cc564e5607d"
      },
      "source": [
        "#use scatter plot to find the correlation between monthly revenue and overage minutes\n",
        "sns.scatterplot(x = 'MonthlyRevenue', y = 'OverageMinutes', data = cust_df )"
      ],
      "execution_count": null,
      "outputs": [
        {
          "output_type": "execute_result",
          "data": {
            "text/plain": [
              "<matplotlib.axes._subplots.AxesSubplot at 0x7fd90b33d690>"
            ]
          },
          "metadata": {},
          "execution_count": 17
        },
        {
          "output_type": "display_data",
          "data": {
            "image/png": "[encoded data removed]",
            "text/plain": [
              "<Figure size 432x288 with 1 Axes>"
            ]
          },
          "metadata": {
            "needs_background": "light"
          }
        }
      ]
    },
    {
      "cell_type": "code",
      "source": [
        "column_1 = cust_df ['MonthlyRevenue']\n",
        "column_2 = cust_df ['OverageMinutes']\n",
        "correlation = column_1.corr(column_2)\n",
        "print(\"The Correlation Between MonthlyRevenue and OverageMinutes is = \"+ str(correlation))"
      ],
      "metadata": {
        "colab": {
          "base_uri": "https://localhost:8080/"
        },
        "id": "piYpzUbQW7C0",
        "outputId": "24ce3ddb-5aa0-44bc-ddbd-6e8ba166fb46"
      },
      "execution_count": null,
      "outputs": [
        {
          "output_type": "stream",
          "name": "stdout",
          "text": [
            "The Correlation Between MonthlyRevenue and OverageMinutes is = 0.7830341461762195\n"
          ]
        }
      ]
    },
    {
      "cell_type": "markdown",
      "metadata": {
        "id": "p0c7mh47lFIT"
      },
      "source": [
        "<mark>__Result:__\n",
        "    \n",
        "MonthlyRevenue and OverageMinutes have a strong positive correlation which is 0.787 and it tends to +1, also both the variables move in the same direction, therefore customers with high overage minutes also have high revenue"
      ]
    },
    {
      "cell_type": "markdown",
      "metadata": {
        "id": "ypcm12s6lFIT"
      },
      "source": [
        "### Q2.2 Does high number of active subscribers lead to low monthly revenue?"
      ]
    },
    {
      "cell_type": "code",
      "source": [
        "print(cust_df['ActiveSubs'].value_counts())"
      ],
      "metadata": {
        "colab": {
          "base_uri": "https://localhost:8080/"
        },
        "id": "UrbeMKsUX1ZN",
        "outputId": "415c950a-21d3-4b66-b3b1-d5996be82e91"
      },
      "execution_count": null,
      "outputs": [
        {
          "output_type": "stream",
          "name": "stdout",
          "text": [
            "1    35031\n",
            "2    11771\n",
            "3     1774\n",
            "4      362\n",
            "5       91\n",
            "0       37\n",
            "Name: ActiveSubs, dtype: int64\n"
          ]
        }
      ]
    },
    {
      "cell_type": "code",
      "metadata": {
        "id": "K_Hbu6DvlFIU",
        "colab": {
          "base_uri": "https://localhost:8080/",
          "height": 369
        },
        "outputId": "35f52afa-f7ff-485e-c86c-bb0d3af5c812"
      },
      "source": [
        "#use category plot to plot monthly revenue for each active subs category\n",
        "ax = sns.catplot(x=\"ActiveSubs\", y=\"MonthlyRevenue\", data= cust_df) "
      ],
      "execution_count": null,
      "outputs": [
        {
          "output_type": "display_data",
          "data": {
            "image/png": "[encoded data removed]",
            "text/plain": [
              "<Figure size 360x360 with 1 Axes>"
            ]
          },
          "metadata": {
            "needs_background": "light"
          }
        }
      ]
    },
    {
      "cell_type": "markdown",
      "metadata": {
        "id": "mkrnwbZhlFIU"
      },
      "source": [
        "<mark>__Result:__\n",
        "    \n",
        "It seems with the Higher Number of Active Subs the Monthly Revenue Decreases"
      ]
    },
    {
      "cell_type": "markdown",
      "metadata": {
        "id": "uZYchMbslFIU"
      },
      "source": [
        "### Q2.3 Does credit rating have an impact in churn rate?"
      ]
    },
    {
      "cell_type": "code",
      "metadata": {
        "id": "VLQbrOxulFIU",
        "colab": {
          "base_uri": "https://localhost:8080/",
          "height": 622
        },
        "outputId": "d32ca2a0-ad19-45ce-b888-313c674f2bef"
      },
      "source": [
        "sns.catplot(x=\"CreditRating\",kind='count', data= cust_df, hue='Churn', height=8.27, aspect=11.7/8.27)"
      ],
      "execution_count": null,
      "outputs": [
        {
          "output_type": "execute_result",
          "data": {
            "text/plain": [
              "<seaborn.axisgrid.FacetGrid at 0x7fd90b84ac10>"
            ]
          },
          "metadata": {},
          "execution_count": 21
        },
        {
          "output_type": "display_data",
          "data": {
            "image/png": "[encoded data removed]",
            "text/plain": [
              "<Figure size 894.4x595.44 with 1 Axes>"
            ]
          },
          "metadata": {
            "needs_background": "light"
          }
        }
      ]
    },
    {
      "cell_type": "markdown",
      "metadata": {
        "id": "Tm9Kkol0lFIV"
      },
      "source": [
        "<mark>__Result:__\n",
        "    \n",
        "Customers falling under the category of High CreditRating has recorded to be maximum in churning as wells as not churning among all categories. Customers falling under all categories has the higher count of not churning compared to the customers who churned in every category of credit rating"
      ]
    },
    {
      "cell_type": "markdown",
      "metadata": {
        "id": "okgnaKbclFIV"
      },
      "source": [
        "### Placeholder for additional exploratory analysis"
      ]
    },
    {
      "cell_type": "code",
      "metadata": {
        "id": "bJkZDBualFIV"
      },
      "source": [
        "#type your code here for any additional exploratory analysis (if any)\n",
        "\n"
      ],
      "execution_count": null,
      "outputs": []
    },
    {
      "cell_type": "markdown",
      "metadata": {
        "id": "1v8DwkhPlFIV"
      },
      "source": [
        "## Q3. Create additional features to help predict churn"
      ]
    },
    {
      "cell_type": "code",
      "metadata": {
        "id": "Qtk8mg8OlFIW"
      },
      "source": [
        "#wrapper function to create additional features for churn prediction\n",
        "def create_features(cust_df):\n",
        "    \n",
        "    #3.1 Percent of current active subs over total subs\n",
        "    cust_df['perc_active_subs'] = cust_df['ActiveSubs'] / cust_df['UniqueSubs']\n",
        "    \n",
        "    #3.2 Percent of recurrent charge to monthly charge\n",
        "    #type your code here to create a new column in cust_df\n",
        "    cust_df['perc_recurrent_charge']= cust_df['TotalRecurringCharge'] / cust_df['MonthlyRevenue']\n",
        "    \n",
        "    #3.3 Percent of overage minutes over total monthly minutes\n",
        "    #type your code here to create a new column in cust_df\n",
        "    cust_df['perc_overage_mins'] = cust_df['OverageMinutes'] / cust_df['MonthlyMinutes']\n",
        "    \n",
        "    \n",
        "    #type your code here to creat any other additional features which you think will help improve your model accuracy\n",
        "    \n",
        "    \n",
        "    return cust_df  \n"
      ],
      "execution_count": null,
      "outputs": []
    },
    {
      "cell_type": "code",
      "metadata": {
        "id": "aVqGUbRIlFIW",
        "colab": {
          "base_uri": "https://localhost:8080/",
          "height": 632
        },
        "outputId": "b6f5667f-e5e7-41fa-8870-ead044d94a8e"
      },
      "source": [
        "#Make a call to the feature engineering wrapper function for churn prediction\n",
        "cust_df=create_features(cust_df)\n",
        "\n",
        "#Checking For Missing Values\n",
        "cust_df.isna().sum()\n",
        "print\n",
        "\n",
        "#Investigating Missing Values\n",
        "rows_with_nan = [ index for index, value in cust_df['perc_overage_mins'].iteritems() if np.isnan(value)]\n",
        "cust_df.loc[rows_with_nan, ['OverageMinutes', 'MonthlyMinutes']]\n",
        "\n",
        "#Filling Missing Values with  0\n",
        "cust_df.fillna(value=0, axis=0, inplace=True)\n"
      ],
      "execution_count": null,
      "outputs": [
        {
          "output_type": "execute_result",
          "data": {
            "text/plain": [
              "CustomerID                 0\n",
              "Churn                      0\n",
              "MonthlyRevenue             0\n",
              "MonthlyMinutes             0\n",
              "TotalRecurringCharge       0\n",
              "                        ... \n",
              "Occupation                 0\n",
              "MaritalStatus              0\n",
              "perc_active_subs           0\n",
              "perc_recurrent_charge      0\n",
              "perc_overage_mins        667\n",
              "Length: 61, dtype: int64"
            ]
          },
          "metadata": {},
          "execution_count": 23
        },
        {
          "output_type": "execute_result",
          "data": {
            "text/plain": [
              "<function print>"
            ]
          },
          "metadata": {},
          "execution_count": 23
        },
        {
          "output_type": "execute_result",
          "data": {
            "text/html": [
              "<div>\n",
              "<style scoped>\n",
              "    .dataframe tbody tr th:only-of-type {\n",
              "        vertical-align: middle;\n",
              "    }\n",
              "\n",
              "    .dataframe tbody tr th {\n",
              "        vertical-align: top;\n",
              "    }\n",
              "\n",
              "    .dataframe thead th {\n",
              "        text-align: right;\n",
              "    }\n",
              "</style>\n",
              "<table border=\"1\" class=\"dataframe\">\n",
              "  <thead>\n",
              "    <tr style=\"text-align: right;\">\n",
              "      <th></th>\n",
              "      <th>OverageMinutes</th>\n",
              "      <th>MonthlyMinutes</th>\n",
              "    </tr>\n",
              "  </thead>\n",
              "  <tbody>\n",
              "    <tr>\n",
              "      <th>4</th>\n",
              "      <td>0.0</td>\n",
              "      <td>0.0</td>\n",
              "    </tr>\n",
              "    <tr>\n",
              "      <th>90</th>\n",
              "      <td>0.0</td>\n",
              "      <td>0.0</td>\n",
              "    </tr>\n",
              "    <tr>\n",
              "      <th>110</th>\n",
              "      <td>0.0</td>\n",
              "      <td>0.0</td>\n",
              "    </tr>\n",
              "    <tr>\n",
              "      <th>152</th>\n",
              "      <td>0.0</td>\n",
              "      <td>0.0</td>\n",
              "    </tr>\n",
              "    <tr>\n",
              "      <th>212</th>\n",
              "      <td>0.0</td>\n",
              "      <td>0.0</td>\n",
              "    </tr>\n",
              "    <tr>\n",
              "      <th>...</th>\n",
              "      <td>...</td>\n",
              "      <td>...</td>\n",
              "    </tr>\n",
              "    <tr>\n",
              "      <th>50448</th>\n",
              "      <td>0.0</td>\n",
              "      <td>0.0</td>\n",
              "    </tr>\n",
              "    <tr>\n",
              "      <th>50571</th>\n",
              "      <td>0.0</td>\n",
              "      <td>0.0</td>\n",
              "    </tr>\n",
              "    <tr>\n",
              "      <th>50607</th>\n",
              "      <td>0.0</td>\n",
              "      <td>0.0</td>\n",
              "    </tr>\n",
              "    <tr>\n",
              "      <th>50745</th>\n",
              "      <td>0.0</td>\n",
              "      <td>0.0</td>\n",
              "    </tr>\n",
              "    <tr>\n",
              "      <th>50945</th>\n",
              "      <td>0.0</td>\n",
              "      <td>0.0</td>\n",
              "    </tr>\n",
              "  </tbody>\n",
              "</table>\n",
              "<p>667 rows × 2 columns</p>\n",
              "</div>"
            ],
            "text/plain": [
              "       OverageMinutes  MonthlyMinutes\n",
              "4                 0.0             0.0\n",
              "90                0.0             0.0\n",
              "110               0.0             0.0\n",
              "152               0.0             0.0\n",
              "212               0.0             0.0\n",
              "...               ...             ...\n",
              "50448             0.0             0.0\n",
              "50571             0.0             0.0\n",
              "50607             0.0             0.0\n",
              "50745             0.0             0.0\n",
              "50945             0.0             0.0\n",
              "\n",
              "[667 rows x 2 columns]"
            ]
          },
          "metadata": {},
          "execution_count": 23
        }
      ]
    },
    {
      "cell_type": "code",
      "source": [
        "#Seperating categorical and continuous variables\n",
        "categorical_cols = list(cust_df.select_dtypes('object').columns.values)\n",
        "continuous_cols = list(cust_df.select_dtypes('number').columns.values)\n",
        "\n",
        "#Removing unnecssary columns and target variable\n",
        "categorical_cols = [i for i in categorical_cols if i not in ('Churn','CustomerID','ServiceArea')]\n",
        "continuous_cols.remove('CustomerID')"
      ],
      "metadata": {
        "id": "iZuXplita1sC"
      },
      "execution_count": null,
      "outputs": []
    },
    {
      "cell_type": "markdown",
      "source": [
        "**Created a Function that will choose Importnat Categorical Columns**"
      ],
      "metadata": {
        "id": "2rMyoBqzlcco"
      }
    },
    {
      "cell_type": "code",
      "source": [
        "def check_categorical_imp(cust_df, categorical_cols):\n",
        "  new_categorical_cols = []\n",
        "  for i in categorical_cols:\n",
        "    if stats.chi2_contingency(pd.crosstab(cust_df.Churn, cust_df[i]))[1] > 0.05:\n",
        "      pass\n",
        "    else:\n",
        "      new_categorical_cols.append(i)\n",
        "\n",
        "  return new_categorical_cols"
      ],
      "metadata": {
        "id": "S0tOGI6Gb5Ic"
      },
      "execution_count": null,
      "outputs": []
    },
    {
      "cell_type": "code",
      "source": [
        "#Checking For Class imbalance\n",
        "cust_df['Churn'].value_counts(normalize=True)*100"
      ],
      "metadata": {
        "colab": {
          "base_uri": "https://localhost:8080/"
        },
        "id": "oh9lvMigcFJa",
        "outputId": "a64cb427-a4be-4d84-ba11-18d0a667e8e7"
      },
      "execution_count": null,
      "outputs": [
        {
          "output_type": "execute_result",
          "data": {
            "text/plain": [
              "No     71.369176\n",
              "Yes    28.630824\n",
              "Name: Churn, dtype: float64"
            ]
          },
          "metadata": {},
          "execution_count": 26
        }
      ]
    },
    {
      "cell_type": "code",
      "source": [
        "#Encoding dependent Variable\n",
        "from sklearn.preprocessing import LabelEncoder\n",
        "le = LabelEncoder()\n",
        "cust_df['Churn'] = le.fit_transform(cust_df['Churn'])\n",
        "\n",
        "class_count_0, class_count_1 = cust_df['Churn'].value_counts()\n",
        "\n",
        "class_0 = cust_df[cust_df['Churn']== 0]\n",
        "class_1 = cust_df[cust_df['Churn']== 1]#print the shape of the Class\n",
        "\n",
        "class_1_over = class_1.sample(class_count_0, replace=True)\n",
        "\n",
        "test_over = pd.concat([class_1_over, class_0], axis=0)\n",
        "\n",
        "#Assigning oversampled dataframe back to cust_df\n",
        "cust_df = test_over\n",
        "cust_df['Churn'].value_counts(normalize=True)*100"
      ],
      "metadata": {
        "colab": {
          "base_uri": "https://localhost:8080/"
        },
        "id": "c7sBR5fYcbBi",
        "outputId": "58f145c0-e265-48ad-9133-c2ac2a3eae7f"
      },
      "execution_count": null,
      "outputs": [
        {
          "output_type": "execute_result",
          "data": {
            "text/plain": [
              "1    50.0\n",
              "0    50.0\n",
              "Name: Churn, dtype: float64"
            ]
          },
          "metadata": {},
          "execution_count": 27
        }
      ]
    },
    {
      "cell_type": "markdown",
      "metadata": {
        "id": "VE-kdD_YlFIX"
      },
      "source": [
        "## Q4. Build classification model to predict customer churn month in advance"
      ]
    },
    {
      "cell_type": "markdown",
      "metadata": {
        "id": "-EqcNv6rlFIX"
      },
      "source": [
        "### Initial data processing for model building exercise"
      ]
    },
    {
      "cell_type": "code",
      "metadata": {
        "id": "pZlh5pYilFIX"
      },
      "source": [
        "#Train - test split to train and test model accuracy\n",
        "from sklearn.model_selection import train_test_split\n",
        "\n",
        "#Define columns to be included in X and y\n",
        "X = cust_df[check_categorical_imp(cust_df, categorical_cols)+ continuous_cols]\n",
        "Y = cust_df['Churn']\n",
        "#Create dummy variables for all categorical variables\n",
        "X = pd.get_dummies(X, drop_first=True)\n",
        "\n",
        "X_train, X_test, y_train, y_test = train_test_split(X, Y, test_size=0.3, random_state=0)\n",
        "\n",
        "#Feature scaling for all continuous variable\n",
        "from sklearn.preprocessing import StandardScaler\n",
        "sc = StandardScaler()\n",
        "\n",
        "\n",
        "\n"
      ],
      "execution_count": null,
      "outputs": []
    },
    {
      "cell_type": "code",
      "source": [
        "#Scaling testing and training data\n",
        "X_train = sc.fit_transform(X_train)\n",
        "X_test = sc.fit_transform(X_test)"
      ],
      "metadata": {
        "id": "gGuv3I9Mg12h"
      },
      "execution_count": null,
      "outputs": []
    },
    {
      "cell_type": "markdown",
      "metadata": {
        "id": "lj89clILlFIY"
      },
      "source": [
        "### Q4.1 Build a simple logistic regression model to predict churn and evaluate model accuracy on test data set\n"
      ]
    },
    {
      "cell_type": "code",
      "metadata": {
        "id": "R3j70GX1lFIY",
        "colab": {
          "base_uri": "https://localhost:8080/"
        },
        "outputId": "8e789c0f-7866-4303-d244-9be8361d798a"
      },
      "source": [
        "#-------------------------------- Model training -------------------------------#\n",
        "\n",
        "#type your code to build logistic regression model on training data set\n",
        "from sklearn.linear_model import LogisticRegression\n",
        "from sklearn.metrics import accuracy_score,classification_report,confusion_matrix,roc_auc_score,f1_score,plot_confusion_matrix,average_precision_score,roc_curve,plot_roc_curve\n",
        "\n",
        "#creating an instance of logistic regression model\n",
        "lr = LogisticRegression(random_state=0)\n",
        "\n",
        "#Training model on training data\n",
        "lr.fit(X_train, y_train)\n",
        "\n",
        "# Predicting Probabilities of Customer Churning in Test Data\n",
        "y_prediction = lr.predict_proba(X_test)[:,1]\n",
        "\n"
      ],
      "execution_count": null,
      "outputs": [
        {
          "output_type": "execute_result",
          "data": {
            "text/plain": [
              "LogisticRegression(random_state=0)"
            ]
          },
          "metadata": {},
          "execution_count": 30
        }
      ]
    },
    {
      "cell_type": "code",
      "source": [
        "#Finding Optimal Threshold Value\n",
        "fpr, tpr, thresholds = roc_curve(y_test, y_prediction)\n",
        "\n",
        "accuracy_lr=[]\n",
        "for i in thresholds:\n",
        "  y_pred = np.where(y_prediction > i, 1, 0)\n",
        "  accuracy_lr.append(accuracy_score(y_test, y_pred))\n",
        "\n",
        "accuracy_lr = pd.concat([pd.Series(thresholds), pd.Series(accuracy_lr)], axis=1)\n",
        "accuracy_lr.columns=['thresholds','accuracy']\n",
        "accuracy_lr.sort_values('accuracy', ascending=False, inplace=True)\n",
        "display(accuracy_lr[:5])\n",
        "\n",
        "\n",
        "best_threshold_lr = accuracy_lr.iloc[0,0]\n"
      ],
      "metadata": {
        "colab": {
          "base_uri": "https://localhost:8080/",
          "height": 206
        },
        "id": "83xUaNwWi5eP",
        "outputId": "6b10a089-10f5-4ec2-e550-0b3c016761ad"
      },
      "execution_count": null,
      "outputs": [
        {
          "output_type": "display_data",
          "data": {
            "text/html": [
              "<div>\n",
              "<style scoped>\n",
              "    .dataframe tbody tr th:only-of-type {\n",
              "        vertical-align: middle;\n",
              "    }\n",
              "\n",
              "    .dataframe tbody tr th {\n",
              "        vertical-align: top;\n",
              "    }\n",
              "\n",
              "    .dataframe thead th {\n",
              "        text-align: right;\n",
              "    }\n",
              "</style>\n",
              "<table border=\"1\" class=\"dataframe\">\n",
              "  <thead>\n",
              "    <tr style=\"text-align: right;\">\n",
              "      <th></th>\n",
              "      <th>thresholds</th>\n",
              "      <th>accuracy</th>\n",
              "    </tr>\n",
              "  </thead>\n",
              "  <tbody>\n",
              "    <tr>\n",
              "      <th>4658</th>\n",
              "      <td>0.521174</td>\n",
              "      <td>0.588311</td>\n",
              "    </tr>\n",
              "    <tr>\n",
              "      <th>4657</th>\n",
              "      <td>0.521181</td>\n",
              "      <td>0.588263</td>\n",
              "    </tr>\n",
              "    <tr>\n",
              "      <th>4659</th>\n",
              "      <td>0.521147</td>\n",
              "      <td>0.588263</td>\n",
              "    </tr>\n",
              "    <tr>\n",
              "      <th>4692</th>\n",
              "      <td>0.520257</td>\n",
              "      <td>0.588216</td>\n",
              "    </tr>\n",
              "    <tr>\n",
              "      <th>4694</th>\n",
              "      <td>0.520233</td>\n",
              "      <td>0.588216</td>\n",
              "    </tr>\n",
              "  </tbody>\n",
              "</table>\n",
              "</div>"
            ],
            "text/plain": [
              "      thresholds  accuracy\n",
              "4658    0.521174  0.588311\n",
              "4657    0.521181  0.588263\n",
              "4659    0.521147  0.588263\n",
              "4692    0.520257  0.588216\n",
              "4694    0.520233  0.588216"
            ]
          },
          "metadata": {}
        }
      ]
    },
    {
      "cell_type": "code",
      "metadata": {
        "id": "KlCdJ472lFIZ",
        "colab": {
          "base_uri": "https://localhost:8080/"
        },
        "outputId": "8ea85d74-8139-4e16-d995-697007d765f2"
      },
      "source": [
        "#-------------------------------- Model testing ---------------------------------#\n",
        "\n",
        "#type your code here to predict for X_test data set using the fitted model\n",
        "y_prediction_lr = lr.predict_proba(X_test)[:,1]\n",
        "\n",
        "\n",
        "#Use a probability threshold to classify customers as churners and non churners (Default = 0.5)\n",
        "\n",
        "y_prediction_lr[y_prediction_lr >= best_threshold_lr] = 1\n",
        "\n",
        "y_prediction_lr[y_prediction_lr < best_threshold_lr] = 0\n",
        "\n",
        "\n",
        "\n",
        "#Evaluate model accuracy using fitted y value and actual y_test\n",
        "#Evaluatio metrics to be used - GINI, Precision, Recall, confusion matrix\n",
        "print(classification_report(y_test, y_prediction_lr))\n",
        "test_auc = roc_auc_score(y_test, y_prediction_lr)\n",
        "print(\"Logistic Regression's roc-auc is: {}\".format(test_auc))\n",
        "\n",
        "print(\"\\nConfusion Matrix: \\n{}\".format(confusion_matrix(y_test, y_prediction_lr)))\n",
        "\n",
        "tn,fp, fn, tp = confusion_matrix(y_test, y_prediction_lr).ravel()\n",
        "print(\"\\nTrue Negatives: {} \\nFalse Positives: {} \\nFalse Negatives: {}  \\nTrue Positives: {}\".format(tn, fp, fn, tp))"
      ],
      "execution_count": null,
      "outputs": [
        {
          "output_type": "stream",
          "name": "stdout",
          "text": [
            "              precision    recall  f1-score   support\n",
            "\n",
            "           0       0.58      0.65      0.62     10641\n",
            "           1       0.59      0.52      0.56     10370\n",
            "\n",
            "    accuracy                           0.59     21011\n",
            "   macro avg       0.59      0.59      0.59     21011\n",
            "weighted avg       0.59      0.59      0.59     21011\n",
            "\n",
            "Logistic Regression's roc-auc is: 0.5874365287301886\n",
            "\n",
            "Confusion Matrix: \n",
            "[[6933 3708]\n",
            " [4943 5427]]\n",
            "\n",
            "True Negatives: 6933 \n",
            "False Positives: 3708 \n",
            "False Negatives: 4943  \n",
            "True Positives: 5427\n"
          ]
        }
      ]
    },
    {
      "cell_type": "code",
      "source": [
        "#Plotting a ROC Curve\n",
        "plt.plot(fpr, tpr)\n",
        "plt.xlabel('fpr')\n",
        "plt.ylabel('tpr')\n",
        "plt.title('ROC-AUC Curve for Logistic Regression')\n",
        "plt.show()"
      ],
      "metadata": {
        "colab": {
          "base_uri": "https://localhost:8080/",
          "height": 312
        },
        "id": "28THD0WpsbIT",
        "outputId": "14fd14c2-0812-4678-c3ae-35fbb6980abf"
      },
      "execution_count": null,
      "outputs": [
        {
          "output_type": "execute_result",
          "data": {
            "text/plain": [
              "[<matplotlib.lines.Line2D at 0x7fd8fa8ff0d0>]"
            ]
          },
          "metadata": {},
          "execution_count": 36
        },
        {
          "output_type": "execute_result",
          "data": {
            "text/plain": [
              "Text(0.5, 0, 'fpr')"
            ]
          },
          "metadata": {},
          "execution_count": 36
        },
        {
          "output_type": "execute_result",
          "data": {
            "text/plain": [
              "Text(0, 0.5, 'tpr')"
            ]
          },
          "metadata": {},
          "execution_count": 36
        },
        {
          "output_type": "execute_result",
          "data": {
            "text/plain": [
              "Text(0.5, 1.0, 'ROC-AUC Curve for Logistic Regression')"
            ]
          },
          "metadata": {},
          "execution_count": 36
        },
        {
          "output_type": "display_data",
          "data": {
            "image/png": "[encoded data removed]",
            "text/plain": [
              "<Figure size 432x288 with 1 Axes>"
            ]
          },
          "metadata": {
            "needs_background": "light"
          }
        }
      ]
    },
    {
      "cell_type": "markdown",
      "metadata": {
        "id": "5c_9lNnclFIZ"
      },
      "source": [
        "### Q4.2 Build Random Forest classifier to compare model accuracy over the logistic regression model\n"
      ]
    },
    {
      "cell_type": "code",
      "metadata": {
        "id": "-PqkT3eRlFIa",
        "colab": {
          "base_uri": "https://localhost:8080/"
        },
        "outputId": "09bbc542-491f-4aa5-9c6c-99d15a9b18c4"
      },
      "source": [
        "#-------------------------------- Model training -------------------------------#\n",
        "\n",
        "#type your code to build random forest classifier model on training data set\n",
        "from sklearn.ensemble import RandomForestClassifier\n",
        "\n",
        "#Creating an instance of Random Classifier Model\n",
        "rf = RandomForestClassifier(n_estimators=100, criterion='entropy', random_state=0)\n",
        "\n",
        "#Training the Model on training data\n",
        "rf.fit(X_train, y_train)\n",
        "\n",
        "#Predicting probabilities of customer churning in Test Data\n",
        "rf_test_output = rf.predict_proba(X_test)[:,1]\n",
        "\n",
        "\n",
        "\n"
      ],
      "execution_count": null,
      "outputs": [
        {
          "output_type": "execute_result",
          "data": {
            "text/plain": [
              "RandomForestClassifier(criterion='entropy', random_state=0)"
            ]
          },
          "metadata": {},
          "execution_count": 46
        }
      ]
    },
    {
      "cell_type": "code",
      "source": [
        "#indicating the optimal threshold value\n",
        "pr, tpr, thresholds = roc_curve(y_test, rf_test_output)\n",
        "\n",
        "accuracy_rf=[]\n",
        "for i in thresholds:\n",
        "  y_pred = np.where(rf_test_output > i, 1, 0)\n",
        "  accuracy_rf.append(accuracy_score(y_test, y_pred))\n",
        "\n",
        "accuracy_rf = pd.concat([pd.Series(thresholds), pd.Series(accuracy_rf)], axis=1)\n",
        "accuracy_rf.columns=['thresholds','accuracy']\n",
        "accuracy_rf.sort_values('accuracy', ascending=False, inplace=True)\n",
        "display(accuracy_rf[:5])\n",
        "\n",
        "\n",
        "best_threshold_rf = accuracy_rf.iloc[0,0]\n"
      ],
      "metadata": {
        "colab": {
          "base_uri": "https://localhost:8080/",
          "height": 206
        },
        "id": "5Xsmh0dmxJfC",
        "outputId": "d108a1cb-7098-48b4-d686-9672fe1fc1cf"
      },
      "execution_count": null,
      "outputs": [
        {
          "output_type": "display_data",
          "data": {
            "text/html": [
              "<div>\n",
              "<style scoped>\n",
              "    .dataframe tbody tr th:only-of-type {\n",
              "        vertical-align: middle;\n",
              "    }\n",
              "\n",
              "    .dataframe tbody tr th {\n",
              "        vertical-align: top;\n",
              "    }\n",
              "\n",
              "    .dataframe thead th {\n",
              "        text-align: right;\n",
              "    }\n",
              "</style>\n",
              "<table border=\"1\" class=\"dataframe\">\n",
              "  <thead>\n",
              "    <tr style=\"text-align: right;\">\n",
              "      <th></th>\n",
              "      <th>thresholds</th>\n",
              "      <th>accuracy</th>\n",
              "    </tr>\n",
              "  </thead>\n",
              "  <tbody>\n",
              "    <tr>\n",
              "      <th>42</th>\n",
              "      <td>0.59</td>\n",
              "      <td>0.900814</td>\n",
              "    </tr>\n",
              "    <tr>\n",
              "      <th>43</th>\n",
              "      <td>0.58</td>\n",
              "      <td>0.900719</td>\n",
              "    </tr>\n",
              "    <tr>\n",
              "      <th>44</th>\n",
              "      <td>0.57</td>\n",
              "      <td>0.900290</td>\n",
              "    </tr>\n",
              "    <tr>\n",
              "      <th>41</th>\n",
              "      <td>0.60</td>\n",
              "      <td>0.899719</td>\n",
              "    </tr>\n",
              "    <tr>\n",
              "      <th>45</th>\n",
              "      <td>0.56</td>\n",
              "      <td>0.899053</td>\n",
              "    </tr>\n",
              "  </tbody>\n",
              "</table>\n",
              "</div>"
            ],
            "text/plain": [
              "    thresholds  accuracy\n",
              "42        0.59  0.900814\n",
              "43        0.58  0.900719\n",
              "44        0.57  0.900290\n",
              "41        0.60  0.899719\n",
              "45        0.56  0.899053"
            ]
          },
          "metadata": {}
        }
      ]
    },
    {
      "cell_type": "code",
      "metadata": {
        "id": "yoMJOpkvlFIa",
        "colab": {
          "base_uri": "https://localhost:8080/"
        },
        "outputId": "59350f55-2318-4cd8-b7c3-b024e2506aaa"
      },
      "source": [
        "#-------------------------------- Model testing ---------------------------------#\n",
        "\n",
        "#type your code here to predict for X_test data set using the fitted RF model\n",
        "y_prediction_rf = rf.predict_proba(X_test)[:,1]\n",
        "\n",
        "\n",
        "#Use a probability threshold to classify customers as churners and non churners (Default = 0.5)\n",
        "y_prediction_rf[y_prediction_rf >= best_threshold_rf] = 1\n",
        "\n",
        "y_prediction_rf[y_prediction_rf < best_threshold_rf] = 0\n",
        "\n",
        "\n",
        "\n",
        "#Evaluate model accuracy using fitted y value and actual y_test\n",
        "#Evaluatio metrics to be used - GINI, Precision, Recall, confusion matrix\n",
        "print(classification_report(y_test, y_prediction_rf))\n",
        "test_auc = roc_auc_score(y_test, y_prediction_rf)\n",
        "print(\"Logistic Regression's roc-auc is: {}\".format(test_auc))\n",
        "\n",
        "print(\"\\nConfusion Matrix: \\n{}\".format(confusion_matrix(y_test, y_prediction_rf)))\n",
        "\n",
        "tn_n,fp_n, fn_n, tp_n = confusion_matrix(y_test, y_prediction_rf).ravel()\n",
        "print(\"\\nTrue Negatives: {} \\nFalse Positives: {} \\nFalse Negatives: {}  \\nTrue Positives: {}\".format(tn, fp, fn, tp))\n",
        "\n"
      ],
      "execution_count": null,
      "outputs": [
        {
          "output_type": "stream",
          "name": "stdout",
          "text": [
            "              precision    recall  f1-score   support\n",
            "\n",
            "           0       0.85      0.97      0.91     10641\n",
            "           1       0.97      0.83      0.89     10370\n",
            "\n",
            "    accuracy                           0.90     21011\n",
            "   macro avg       0.91      0.90      0.90     21011\n",
            "weighted avg       0.91      0.90      0.90     21011\n",
            "\n",
            "Logistic Regression's roc-auc is: 0.8997701436294198\n",
            "\n",
            "Confusion Matrix: \n",
            "[[10357   284]\n",
            " [ 1802  8568]]\n",
            "\n",
            "True Negatives: 10357 \n",
            "False Positives: 284 \n",
            "False Negatives: 1802  \n",
            "True Positives: 8568\n"
          ]
        }
      ]
    },
    {
      "cell_type": "markdown",
      "metadata": {
        "id": "iKAR6bUolFIb"
      },
      "source": [
        "<mark>__Result:__\n",
        "    \n",
        "The Random Forest Classifier Model is having a better accuracy than the Logistic Regression model, it can be seen from accuracy_score, recall and f1_score being more in Random Forest Classifier"
      ]
    },
    {
      "cell_type": "markdown",
      "metadata": {
        "id": "AixoKv9GlFIb"
      },
      "source": [
        "### Q4.3 Identify most important features impacting churn"
      ]
    },
    {
      "cell_type": "code",
      "metadata": {
        "id": "k4T4iPJilFIc",
        "colab": {
          "base_uri": "https://localhost:8080/",
          "height": 516
        },
        "outputId": "cee24517-38c0-442e-ed18-aec8042e0f74"
      },
      "source": [
        "# Type your code here to plot the top 20 important predictor features impacting churn using the Random Forest model created\n",
        "\n",
        "top_20_features = pd.Series(rf.feature_importances_, index=X.columns).nlargest(20)\n",
        "plt.figure(figsize=(5,8))\n",
        "top_20_features.sort_values(ascending=True).plot.barh(title='Top 20 Importnat Features Impacting Ch')"
      ],
      "execution_count": null,
      "outputs": [
        {
          "output_type": "execute_result",
          "data": {
            "text/plain": [
              "<Figure size 360x576 with 0 Axes>"
            ]
          },
          "metadata": {},
          "execution_count": 51
        },
        {
          "output_type": "execute_result",
          "data": {
            "text/plain": [
              "<matplotlib.axes._subplots.AxesSubplot at 0x7fd8f6e6bf50>"
            ]
          },
          "metadata": {},
          "execution_count": 51
        },
        {
          "output_type": "display_data",
          "data": {
            "image/png": "[encoded data removed]",
            "text/plain": [
              "<Figure size 360x576 with 1 Axes>"
            ]
          },
          "metadata": {
            "needs_background": "light"
          }
        }
      ]
    },
    {
      "cell_type": "markdown",
      "metadata": {
        "id": "b34fvkuvlFId"
      },
      "source": [
        "## Q5. Use the hold out data provided to predict churners using the best model identified in step 4 "
      ]
    },
    {
      "cell_type": "code",
      "metadata": {
        "id": "inhr0oBulFIe",
        "colab": {
          "base_uri": "https://localhost:8080/",
          "height": 443
        },
        "outputId": "ce1257a6-a767-45f5-8dd9-7c5c4f0da690"
      },
      "source": [
        "#Type your code here to predict churners based on the hold out data set provided\n",
        "predict = pd.read_csv('/content/drive/MyDrive/Telecom - Prediction Data.csv')\n",
        "\n",
        "#Note #1: use \"create_features(cust_df)\" functions to create the additional list of features in the hold out data set\n",
        "create_features(cust_df=predict)\n",
        "#Note #2: Also, perform feature scaling and dummy variables creation as performed during the initial stages of step #4\n",
        "\n",
        "customer_id = predict['CustomerID']\n",
        "\n",
        "#Use \"predict\" function on the transformend data using the best fitted model object\n",
        "predict = predict[check_categorical_imp(cust_df,categorical_cols)+ continuous_cols]\n",
        "\n",
        "predict['perc_overage_mins'].fillna(0, inplace=True)\n",
        "\n"
      ],
      "execution_count": null,
      "outputs": [
        {
          "output_type": "execute_result",
          "data": {
            "text/html": [
              "<div>\n",
              "<style scoped>\n",
              "    .dataframe tbody tr th:only-of-type {\n",
              "        vertical-align: middle;\n",
              "    }\n",
              "\n",
              "    .dataframe tbody tr th {\n",
              "        vertical-align: top;\n",
              "    }\n",
              "\n",
              "    .dataframe thead th {\n",
              "        text-align: right;\n",
              "    }\n",
              "</style>\n",
              "<table border=\"1\" class=\"dataframe\">\n",
              "  <thead>\n",
              "    <tr style=\"text-align: right;\">\n",
              "      <th></th>\n",
              "      <th>CustomerID</th>\n",
              "      <th>Churn</th>\n",
              "      <th>MonthlyRevenue</th>\n",
              "      <th>MonthlyMinutes</th>\n",
              "      <th>TotalRecurringCharge</th>\n",
              "      <th>DirectorAssistedCalls</th>\n",
              "      <th>OverageMinutes</th>\n",
              "      <th>RoamingCalls</th>\n",
              "      <th>PercChangeMinutes</th>\n",
              "      <th>PercChangeRevenues</th>\n",
              "      <th>DroppedCalls</th>\n",
              "      <th>BlockedCalls</th>\n",
              "      <th>UnansweredCalls</th>\n",
              "      <th>CustomerCareCalls</th>\n",
              "      <th>ThreewayCalls</th>\n",
              "      <th>ReceivedCalls</th>\n",
              "      <th>OutboundCalls</th>\n",
              "      <th>InboundCalls</th>\n",
              "      <th>PeakCallsInOut</th>\n",
              "      <th>OffPeakCallsInOut</th>\n",
              "      <th>DroppedBlockedCalls</th>\n",
              "      <th>CallForwardingCalls</th>\n",
              "      <th>CallWaitingCalls</th>\n",
              "      <th>MonthsInService</th>\n",
              "      <th>UniqueSubs</th>\n",
              "      <th>ActiveSubs</th>\n",
              "      <th>ServiceArea</th>\n",
              "      <th>Handsets</th>\n",
              "      <th>HandsetModels</th>\n",
              "      <th>CurrentEquipmentDays</th>\n",
              "      <th>AgeHH1</th>\n",
              "      <th>AgeHH2</th>\n",
              "      <th>ChildrenInHH</th>\n",
              "      <th>HandsetRefurbished</th>\n",
              "      <th>HandsetWebCapable</th>\n",
              "      <th>TruckOwner</th>\n",
              "      <th>RVOwner</th>\n",
              "      <th>Homeownership</th>\n",
              "      <th>BuysViaMailOrder</th>\n",
              "      <th>RespondsToMailOffers</th>\n",
              "      <th>OptOutMailings</th>\n",
              "      <th>NonUSTravel</th>\n",
              "      <th>OwnsComputer</th>\n",
              "      <th>HasCreditCard</th>\n",
              "      <th>RetentionCalls</th>\n",
              "      <th>RetentionOffersAccepted</th>\n",
              "      <th>NewCellphoneUser</th>\n",
              "      <th>NotNewCellphoneUser</th>\n",
              "      <th>ReferralsMadeBySubscriber</th>\n",
              "      <th>IncomeGroup</th>\n",
              "      <th>OwnsMotorcycle</th>\n",
              "      <th>AdjustmentsToCreditRating</th>\n",
              "      <th>HandsetPrice</th>\n",
              "      <th>MadeCallToRetentionTeam</th>\n",
              "      <th>CreditRating</th>\n",
              "      <th>PrizmCode</th>\n",
              "      <th>Occupation</th>\n",
              "      <th>MaritalStatus</th>\n",
              "      <th>perc_active_subs</th>\n",
              "      <th>perc_recurrent_charge</th>\n",
              "      <th>perc_overage_mins</th>\n",
              "    </tr>\n",
              "  </thead>\n",
              "  <tbody>\n",
              "    <tr>\n",
              "      <th>0</th>\n",
              "      <td>3000006</td>\n",
              "      <td>NaN</td>\n",
              "      <td>57.49</td>\n",
              "      <td>483.0</td>\n",
              "      <td>37.0</td>\n",
              "      <td>0.25</td>\n",
              "      <td>23.0</td>\n",
              "      <td>0.0</td>\n",
              "      <td>532.0</td>\n",
              "      <td>51.0</td>\n",
              "      <td>8.3</td>\n",
              "      <td>1.0</td>\n",
              "      <td>61.3</td>\n",
              "      <td>1.7</td>\n",
              "      <td>0.3</td>\n",
              "      <td>55.3</td>\n",
              "      <td>46.3</td>\n",
              "      <td>6.3</td>\n",
              "      <td>83.7</td>\n",
              "      <td>157.0</td>\n",
              "      <td>9.3</td>\n",
              "      <td>0.0</td>\n",
              "      <td>5.7</td>\n",
              "      <td>56</td>\n",
              "      <td>1</td>\n",
              "      <td>1</td>\n",
              "      <td>MILMIL414</td>\n",
              "      <td>7</td>\n",
              "      <td>6</td>\n",
              "      <td>240</td>\n",
              "      <td>30.0</td>\n",
              "      <td>0.0</td>\n",
              "      <td>No</td>\n",
              "      <td>No</td>\n",
              "      <td>Yes</td>\n",
              "      <td>Yes</td>\n",
              "      <td>Yes</td>\n",
              "      <td>Unknown</td>\n",
              "      <td>Yes</td>\n",
              "      <td>Yes</td>\n",
              "      <td>No</td>\n",
              "      <td>No</td>\n",
              "      <td>No</td>\n",
              "      <td>Yes</td>\n",
              "      <td>0</td>\n",
              "      <td>0</td>\n",
              "      <td>No</td>\n",
              "      <td>Yes</td>\n",
              "      <td>0</td>\n",
              "      <td>5</td>\n",
              "      <td>No</td>\n",
              "      <td>1</td>\n",
              "      <td>150</td>\n",
              "      <td>No</td>\n",
              "      <td>5-Low</td>\n",
              "      <td>Other</td>\n",
              "      <td>Other</td>\n",
              "      <td>No</td>\n",
              "      <td>1.000000</td>\n",
              "      <td>0.643590</td>\n",
              "      <td>0.047619</td>\n",
              "    </tr>\n",
              "    <tr>\n",
              "      <th>1</th>\n",
              "      <td>3000018</td>\n",
              "      <td>NaN</td>\n",
              "      <td>55.23</td>\n",
              "      <td>570.0</td>\n",
              "      <td>72.0</td>\n",
              "      <td>0.00</td>\n",
              "      <td>0.0</td>\n",
              "      <td>0.0</td>\n",
              "      <td>38.0</td>\n",
              "      <td>0.0</td>\n",
              "      <td>9.7</td>\n",
              "      <td>0.7</td>\n",
              "      <td>77.0</td>\n",
              "      <td>8.7</td>\n",
              "      <td>0.0</td>\n",
              "      <td>106.3</td>\n",
              "      <td>14.7</td>\n",
              "      <td>0.7</td>\n",
              "      <td>97.3</td>\n",
              "      <td>90.3</td>\n",
              "      <td>10.3</td>\n",
              "      <td>0.0</td>\n",
              "      <td>0.0</td>\n",
              "      <td>57</td>\n",
              "      <td>1</td>\n",
              "      <td>1</td>\n",
              "      <td>NNYSYR315</td>\n",
              "      <td>6</td>\n",
              "      <td>4</td>\n",
              "      <td>434</td>\n",
              "      <td>56.0</td>\n",
              "      <td>0.0</td>\n",
              "      <td>No</td>\n",
              "      <td>No</td>\n",
              "      <td>Yes</td>\n",
              "      <td>No</td>\n",
              "      <td>No</td>\n",
              "      <td>Known</td>\n",
              "      <td>No</td>\n",
              "      <td>No</td>\n",
              "      <td>No</td>\n",
              "      <td>No</td>\n",
              "      <td>Yes</td>\n",
              "      <td>Yes</td>\n",
              "      <td>0</td>\n",
              "      <td>0</td>\n",
              "      <td>Yes</td>\n",
              "      <td>No</td>\n",
              "      <td>0</td>\n",
              "      <td>6</td>\n",
              "      <td>No</td>\n",
              "      <td>2</td>\n",
              "      <td>80</td>\n",
              "      <td>No</td>\n",
              "      <td>1-Highest</td>\n",
              "      <td>Other</td>\n",
              "      <td>Professional</td>\n",
              "      <td>No</td>\n",
              "      <td>1.000000</td>\n",
              "      <td>1.303639</td>\n",
              "      <td>0.000000</td>\n",
              "    </tr>\n",
              "    <tr>\n",
              "      <th>2</th>\n",
              "      <td>3000034</td>\n",
              "      <td>NaN</td>\n",
              "      <td>97.34</td>\n",
              "      <td>1039.0</td>\n",
              "      <td>50.0</td>\n",
              "      <td>4.95</td>\n",
              "      <td>420.0</td>\n",
              "      <td>0.0</td>\n",
              "      <td>198.0</td>\n",
              "      <td>23.3</td>\n",
              "      <td>12.7</td>\n",
              "      <td>3.0</td>\n",
              "      <td>176.0</td>\n",
              "      <td>11.3</td>\n",
              "      <td>0.3</td>\n",
              "      <td>213.9</td>\n",
              "      <td>103.3</td>\n",
              "      <td>0.3</td>\n",
              "      <td>238.3</td>\n",
              "      <td>192.3</td>\n",
              "      <td>15.7</td>\n",
              "      <td>0.0</td>\n",
              "      <td>4.0</td>\n",
              "      <td>55</td>\n",
              "      <td>1</td>\n",
              "      <td>1</td>\n",
              "      <td>MILMIL414</td>\n",
              "      <td>3</td>\n",
              "      <td>3</td>\n",
              "      <td>700</td>\n",
              "      <td>38.0</td>\n",
              "      <td>24.0</td>\n",
              "      <td>No</td>\n",
              "      <td>No</td>\n",
              "      <td>No</td>\n",
              "      <td>No</td>\n",
              "      <td>No</td>\n",
              "      <td>Unknown</td>\n",
              "      <td>No</td>\n",
              "      <td>No</td>\n",
              "      <td>No</td>\n",
              "      <td>No</td>\n",
              "      <td>No</td>\n",
              "      <td>No</td>\n",
              "      <td>0</td>\n",
              "      <td>0</td>\n",
              "      <td>Yes</td>\n",
              "      <td>No</td>\n",
              "      <td>0</td>\n",
              "      <td>4</td>\n",
              "      <td>No</td>\n",
              "      <td>3</td>\n",
              "      <td>10</td>\n",
              "      <td>No</td>\n",
              "      <td>3-Good</td>\n",
              "      <td>Suburban</td>\n",
              "      <td>Crafts</td>\n",
              "      <td>Yes</td>\n",
              "      <td>1.000000</td>\n",
              "      <td>0.513663</td>\n",
              "      <td>0.404235</td>\n",
              "    </tr>\n",
              "    <tr>\n",
              "      <th>3</th>\n",
              "      <td>3000070</td>\n",
              "      <td>NaN</td>\n",
              "      <td>35.59</td>\n",
              "      <td>153.0</td>\n",
              "      <td>30.0</td>\n",
              "      <td>0.00</td>\n",
              "      <td>16.0</td>\n",
              "      <td>0.0</td>\n",
              "      <td>30.0</td>\n",
              "      <td>7.3</td>\n",
              "      <td>2.0</td>\n",
              "      <td>0.7</td>\n",
              "      <td>17.3</td>\n",
              "      <td>0.0</td>\n",
              "      <td>0.0</td>\n",
              "      <td>33.1</td>\n",
              "      <td>8.0</td>\n",
              "      <td>4.7</td>\n",
              "      <td>48.3</td>\n",
              "      <td>7.0</td>\n",
              "      <td>2.7</td>\n",
              "      <td>0.0</td>\n",
              "      <td>0.3</td>\n",
              "      <td>59</td>\n",
              "      <td>3</td>\n",
              "      <td>2</td>\n",
              "      <td>SLCSLC801</td>\n",
              "      <td>6</td>\n",
              "      <td>5</td>\n",
              "      <td>48</td>\n",
              "      <td>46.0</td>\n",
              "      <td>0.0</td>\n",
              "      <td>Yes</td>\n",
              "      <td>No</td>\n",
              "      <td>Yes</td>\n",
              "      <td>Yes</td>\n",
              "      <td>Yes</td>\n",
              "      <td>Known</td>\n",
              "      <td>Yes</td>\n",
              "      <td>Yes</td>\n",
              "      <td>Yes</td>\n",
              "      <td>No</td>\n",
              "      <td>No</td>\n",
              "      <td>Yes</td>\n",
              "      <td>0</td>\n",
              "      <td>0</td>\n",
              "      <td>No</td>\n",
              "      <td>Yes</td>\n",
              "      <td>0</td>\n",
              "      <td>4</td>\n",
              "      <td>No</td>\n",
              "      <td>1</td>\n",
              "      <td>200</td>\n",
              "      <td>No</td>\n",
              "      <td>1-Highest</td>\n",
              "      <td>Other</td>\n",
              "      <td>Other</td>\n",
              "      <td>No</td>\n",
              "      <td>0.666667</td>\n",
              "      <td>0.842933</td>\n",
              "      <td>0.104575</td>\n",
              "    </tr>\n",
              "    <tr>\n",
              "      <th>4</th>\n",
              "      <td>3000074</td>\n",
              "      <td>NaN</td>\n",
              "      <td>55.27</td>\n",
              "      <td>1213.0</td>\n",
              "      <td>50.0</td>\n",
              "      <td>0.74</td>\n",
              "      <td>0.0</td>\n",
              "      <td>1.3</td>\n",
              "      <td>169.0</td>\n",
              "      <td>1.0</td>\n",
              "      <td>2.7</td>\n",
              "      <td>6.0</td>\n",
              "      <td>43.7</td>\n",
              "      <td>4.3</td>\n",
              "      <td>0.0</td>\n",
              "      <td>490.1</td>\n",
              "      <td>50.7</td>\n",
              "      <td>8.3</td>\n",
              "      <td>189.3</td>\n",
              "      <td>105.0</td>\n",
              "      <td>8.7</td>\n",
              "      <td>0.0</td>\n",
              "      <td>4.3</td>\n",
              "      <td>52</td>\n",
              "      <td>1</td>\n",
              "      <td>1</td>\n",
              "      <td>OKCTUL918</td>\n",
              "      <td>4</td>\n",
              "      <td>4</td>\n",
              "      <td>408</td>\n",
              "      <td>58.0</td>\n",
              "      <td>0.0</td>\n",
              "      <td>No</td>\n",
              "      <td>No</td>\n",
              "      <td>Yes</td>\n",
              "      <td>No</td>\n",
              "      <td>No</td>\n",
              "      <td>Known</td>\n",
              "      <td>Yes</td>\n",
              "      <td>Yes</td>\n",
              "      <td>No</td>\n",
              "      <td>No</td>\n",
              "      <td>No</td>\n",
              "      <td>Yes</td>\n",
              "      <td>0</td>\n",
              "      <td>0</td>\n",
              "      <td>No</td>\n",
              "      <td>Yes</td>\n",
              "      <td>0</td>\n",
              "      <td>3</td>\n",
              "      <td>No</td>\n",
              "      <td>0</td>\n",
              "      <td>10</td>\n",
              "      <td>No</td>\n",
              "      <td>1-Highest</td>\n",
              "      <td>Suburban</td>\n",
              "      <td>Other</td>\n",
              "      <td>No</td>\n",
              "      <td>1.000000</td>\n",
              "      <td>0.904650</td>\n",
              "      <td>0.000000</td>\n",
              "    </tr>\n",
              "    <tr>\n",
              "      <th>...</th>\n",
              "      <td>...</td>\n",
              "      <td>...</td>\n",
              "      <td>...</td>\n",
              "      <td>...</td>\n",
              "      <td>...</td>\n",
              "      <td>...</td>\n",
              "      <td>...</td>\n",
              "      <td>...</td>\n",
              "      <td>...</td>\n",
              "      <td>...</td>\n",
              "      <td>...</td>\n",
              "      <td>...</td>\n",
              "      <td>...</td>\n",
              "      <td>...</td>\n",
              "      <td>...</td>\n",
              "      <td>...</td>\n",
              "      <td>...</td>\n",
              "      <td>...</td>\n",
              "      <td>...</td>\n",
              "      <td>...</td>\n",
              "      <td>...</td>\n",
              "      <td>...</td>\n",
              "      <td>...</td>\n",
              "      <td>...</td>\n",
              "      <td>...</td>\n",
              "      <td>...</td>\n",
              "      <td>...</td>\n",
              "      <td>...</td>\n",
              "      <td>...</td>\n",
              "      <td>...</td>\n",
              "      <td>...</td>\n",
              "      <td>...</td>\n",
              "      <td>...</td>\n",
              "      <td>...</td>\n",
              "      <td>...</td>\n",
              "      <td>...</td>\n",
              "      <td>...</td>\n",
              "      <td>...</td>\n",
              "      <td>...</td>\n",
              "      <td>...</td>\n",
              "      <td>...</td>\n",
              "      <td>...</td>\n",
              "      <td>...</td>\n",
              "      <td>...</td>\n",
              "      <td>...</td>\n",
              "      <td>...</td>\n",
              "      <td>...</td>\n",
              "      <td>...</td>\n",
              "      <td>...</td>\n",
              "      <td>...</td>\n",
              "      <td>...</td>\n",
              "      <td>...</td>\n",
              "      <td>...</td>\n",
              "      <td>...</td>\n",
              "      <td>...</td>\n",
              "      <td>...</td>\n",
              "      <td>...</td>\n",
              "      <td>...</td>\n",
              "      <td>...</td>\n",
              "      <td>...</td>\n",
              "      <td>...</td>\n",
              "    </tr>\n",
              "    <tr>\n",
              "      <th>19995</th>\n",
              "      <td>3399938</td>\n",
              "      <td>NaN</td>\n",
              "      <td>85.15</td>\n",
              "      <td>815.0</td>\n",
              "      <td>88.0</td>\n",
              "      <td>0.00</td>\n",
              "      <td>1.0</td>\n",
              "      <td>0.4</td>\n",
              "      <td>0.0</td>\n",
              "      <td>0.0</td>\n",
              "      <td>12.0</td>\n",
              "      <td>0.0</td>\n",
              "      <td>15.3</td>\n",
              "      <td>0.0</td>\n",
              "      <td>1.3</td>\n",
              "      <td>141.0</td>\n",
              "      <td>9.0</td>\n",
              "      <td>3.3</td>\n",
              "      <td>72.0</td>\n",
              "      <td>38.7</td>\n",
              "      <td>12.0</td>\n",
              "      <td>0.0</td>\n",
              "      <td>0.0</td>\n",
              "      <td>27</td>\n",
              "      <td>3</td>\n",
              "      <td>2</td>\n",
              "      <td>LAXVNY818</td>\n",
              "      <td>3</td>\n",
              "      <td>3</td>\n",
              "      <td>230</td>\n",
              "      <td>64.0</td>\n",
              "      <td>64.0</td>\n",
              "      <td>No</td>\n",
              "      <td>No</td>\n",
              "      <td>Yes</td>\n",
              "      <td>No</td>\n",
              "      <td>No</td>\n",
              "      <td>Unknown</td>\n",
              "      <td>No</td>\n",
              "      <td>No</td>\n",
              "      <td>No</td>\n",
              "      <td>No</td>\n",
              "      <td>No</td>\n",
              "      <td>Yes</td>\n",
              "      <td>0</td>\n",
              "      <td>0</td>\n",
              "      <td>No</td>\n",
              "      <td>No</td>\n",
              "      <td>0</td>\n",
              "      <td>0</td>\n",
              "      <td>No</td>\n",
              "      <td>0</td>\n",
              "      <td>40</td>\n",
              "      <td>No</td>\n",
              "      <td>1-Highest</td>\n",
              "      <td>Other</td>\n",
              "      <td>Other</td>\n",
              "      <td>Unknown</td>\n",
              "      <td>0.666667</td>\n",
              "      <td>1.033470</td>\n",
              "      <td>0.001227</td>\n",
              "    </tr>\n",
              "    <tr>\n",
              "      <th>19996</th>\n",
              "      <td>3399950</td>\n",
              "      <td>NaN</td>\n",
              "      <td>NaN</td>\n",
              "      <td>NaN</td>\n",
              "      <td>NaN</td>\n",
              "      <td>NaN</td>\n",
              "      <td>NaN</td>\n",
              "      <td>NaN</td>\n",
              "      <td>NaN</td>\n",
              "      <td>NaN</td>\n",
              "      <td>0.0</td>\n",
              "      <td>0.0</td>\n",
              "      <td>2.0</td>\n",
              "      <td>0.0</td>\n",
              "      <td>0.0</td>\n",
              "      <td>0.0</td>\n",
              "      <td>0.0</td>\n",
              "      <td>0.0</td>\n",
              "      <td>2.0</td>\n",
              "      <td>1.7</td>\n",
              "      <td>0.0</td>\n",
              "      <td>0.0</td>\n",
              "      <td>0.0</td>\n",
              "      <td>25</td>\n",
              "      <td>1</td>\n",
              "      <td>1</td>\n",
              "      <td>LAXRIV909</td>\n",
              "      <td>1</td>\n",
              "      <td>1</td>\n",
              "      <td>773</td>\n",
              "      <td>34.0</td>\n",
              "      <td>26.0</td>\n",
              "      <td>No</td>\n",
              "      <td>No</td>\n",
              "      <td>Yes</td>\n",
              "      <td>No</td>\n",
              "      <td>No</td>\n",
              "      <td>Known</td>\n",
              "      <td>No</td>\n",
              "      <td>No</td>\n",
              "      <td>No</td>\n",
              "      <td>No</td>\n",
              "      <td>Yes</td>\n",
              "      <td>Yes</td>\n",
              "      <td>0</td>\n",
              "      <td>0</td>\n",
              "      <td>No</td>\n",
              "      <td>No</td>\n",
              "      <td>0</td>\n",
              "      <td>6</td>\n",
              "      <td>No</td>\n",
              "      <td>0</td>\n",
              "      <td>Unknown</td>\n",
              "      <td>No</td>\n",
              "      <td>1-Highest</td>\n",
              "      <td>Suburban</td>\n",
              "      <td>Other</td>\n",
              "      <td>Yes</td>\n",
              "      <td>1.000000</td>\n",
              "      <td>NaN</td>\n",
              "      <td>NaN</td>\n",
              "    </tr>\n",
              "    <tr>\n",
              "      <th>19997</th>\n",
              "      <td>3399966</td>\n",
              "      <td>NaN</td>\n",
              "      <td>NaN</td>\n",
              "      <td>NaN</td>\n",
              "      <td>NaN</td>\n",
              "      <td>NaN</td>\n",
              "      <td>NaN</td>\n",
              "      <td>NaN</td>\n",
              "      <td>NaN</td>\n",
              "      <td>NaN</td>\n",
              "      <td>0.0</td>\n",
              "      <td>0.0</td>\n",
              "      <td>0.0</td>\n",
              "      <td>0.0</td>\n",
              "      <td>0.0</td>\n",
              "      <td>1.3</td>\n",
              "      <td>0.7</td>\n",
              "      <td>0.3</td>\n",
              "      <td>5.3</td>\n",
              "      <td>3.3</td>\n",
              "      <td>0.0</td>\n",
              "      <td>0.0</td>\n",
              "      <td>0.0</td>\n",
              "      <td>25</td>\n",
              "      <td>1</td>\n",
              "      <td>1</td>\n",
              "      <td>LAXCOR909</td>\n",
              "      <td>1</td>\n",
              "      <td>1</td>\n",
              "      <td>773</td>\n",
              "      <td>0.0</td>\n",
              "      <td>0.0</td>\n",
              "      <td>No</td>\n",
              "      <td>No</td>\n",
              "      <td>Yes</td>\n",
              "      <td>No</td>\n",
              "      <td>No</td>\n",
              "      <td>Unknown</td>\n",
              "      <td>No</td>\n",
              "      <td>No</td>\n",
              "      <td>No</td>\n",
              "      <td>No</td>\n",
              "      <td>No</td>\n",
              "      <td>Yes</td>\n",
              "      <td>0</td>\n",
              "      <td>0</td>\n",
              "      <td>Yes</td>\n",
              "      <td>No</td>\n",
              "      <td>0</td>\n",
              "      <td>8</td>\n",
              "      <td>No</td>\n",
              "      <td>1</td>\n",
              "      <td>Unknown</td>\n",
              "      <td>No</td>\n",
              "      <td>1-Highest</td>\n",
              "      <td>Suburban</td>\n",
              "      <td>Other</td>\n",
              "      <td>No</td>\n",
              "      <td>1.000000</td>\n",
              "      <td>NaN</td>\n",
              "      <td>NaN</td>\n",
              "    </tr>\n",
              "    <tr>\n",
              "      <th>19998</th>\n",
              "      <td>3399970</td>\n",
              "      <td>NaN</td>\n",
              "      <td>NaN</td>\n",
              "      <td>NaN</td>\n",
              "      <td>NaN</td>\n",
              "      <td>NaN</td>\n",
              "      <td>NaN</td>\n",
              "      <td>NaN</td>\n",
              "      <td>NaN</td>\n",
              "      <td>NaN</td>\n",
              "      <td>19.0</td>\n",
              "      <td>3.3</td>\n",
              "      <td>26.7</td>\n",
              "      <td>4.3</td>\n",
              "      <td>0.0</td>\n",
              "      <td>235.4</td>\n",
              "      <td>35.0</td>\n",
              "      <td>3.3</td>\n",
              "      <td>146.3</td>\n",
              "      <td>115.3</td>\n",
              "      <td>22.3</td>\n",
              "      <td>0.0</td>\n",
              "      <td>6.3</td>\n",
              "      <td>25</td>\n",
              "      <td>1</td>\n",
              "      <td>1</td>\n",
              "      <td>LAXLAG949</td>\n",
              "      <td>3</td>\n",
              "      <td>2</td>\n",
              "      <td>32</td>\n",
              "      <td>28.0</td>\n",
              "      <td>48.0</td>\n",
              "      <td>No</td>\n",
              "      <td>No</td>\n",
              "      <td>Yes</td>\n",
              "      <td>No</td>\n",
              "      <td>No</td>\n",
              "      <td>Unknown</td>\n",
              "      <td>No</td>\n",
              "      <td>No</td>\n",
              "      <td>No</td>\n",
              "      <td>No</td>\n",
              "      <td>No</td>\n",
              "      <td>Yes</td>\n",
              "      <td>0</td>\n",
              "      <td>0</td>\n",
              "      <td>No</td>\n",
              "      <td>No</td>\n",
              "      <td>0</td>\n",
              "      <td>3</td>\n",
              "      <td>No</td>\n",
              "      <td>0</td>\n",
              "      <td>150</td>\n",
              "      <td>No</td>\n",
              "      <td>3-Good</td>\n",
              "      <td>Other</td>\n",
              "      <td>Other</td>\n",
              "      <td>Unknown</td>\n",
              "      <td>1.000000</td>\n",
              "      <td>NaN</td>\n",
              "      <td>NaN</td>\n",
              "    </tr>\n",
              "    <tr>\n",
              "      <th>19999</th>\n",
              "      <td>3399986</td>\n",
              "      <td>NaN</td>\n",
              "      <td>NaN</td>\n",
              "      <td>NaN</td>\n",
              "      <td>NaN</td>\n",
              "      <td>NaN</td>\n",
              "      <td>NaN</td>\n",
              "      <td>NaN</td>\n",
              "      <td>NaN</td>\n",
              "      <td>NaN</td>\n",
              "      <td>3.0</td>\n",
              "      <td>1.0</td>\n",
              "      <td>12.3</td>\n",
              "      <td>0.0</td>\n",
              "      <td>0.3</td>\n",
              "      <td>21.4</td>\n",
              "      <td>6.7</td>\n",
              "      <td>0.0</td>\n",
              "      <td>60.3</td>\n",
              "      <td>1.0</td>\n",
              "      <td>4.0</td>\n",
              "      <td>0.0</td>\n",
              "      <td>0.0</td>\n",
              "      <td>27</td>\n",
              "      <td>1</td>\n",
              "      <td>1</td>\n",
              "      <td>LAXONT909</td>\n",
              "      <td>1</td>\n",
              "      <td>1</td>\n",
              "      <td>835</td>\n",
              "      <td>56.0</td>\n",
              "      <td>54.0</td>\n",
              "      <td>Yes</td>\n",
              "      <td>No</td>\n",
              "      <td>Yes</td>\n",
              "      <td>No</td>\n",
              "      <td>No</td>\n",
              "      <td>Known</td>\n",
              "      <td>Yes</td>\n",
              "      <td>Yes</td>\n",
              "      <td>No</td>\n",
              "      <td>No</td>\n",
              "      <td>Yes</td>\n",
              "      <td>Yes</td>\n",
              "      <td>0</td>\n",
              "      <td>0</td>\n",
              "      <td>No</td>\n",
              "      <td>No</td>\n",
              "      <td>0</td>\n",
              "      <td>7</td>\n",
              "      <td>No</td>\n",
              "      <td>3</td>\n",
              "      <td>Unknown</td>\n",
              "      <td>No</td>\n",
              "      <td>4-Medium</td>\n",
              "      <td>Suburban</td>\n",
              "      <td>Professional</td>\n",
              "      <td>Yes</td>\n",
              "      <td>1.000000</td>\n",
              "      <td>NaN</td>\n",
              "      <td>NaN</td>\n",
              "    </tr>\n",
              "  </tbody>\n",
              "</table>\n",
              "<p>20000 rows × 61 columns</p>\n",
              "</div>"
            ],
            "text/plain": [
              "       CustomerID  Churn  ...  perc_recurrent_charge  perc_overage_mins\n",
              "0         3000006    NaN  ...               0.643590           0.047619\n",
              "1         3000018    NaN  ...               1.303639           0.000000\n",
              "2         3000034    NaN  ...               0.513663           0.404235\n",
              "3         3000070    NaN  ...               0.842933           0.104575\n",
              "4         3000074    NaN  ...               0.904650           0.000000\n",
              "...           ...    ...  ...                    ...                ...\n",
              "19995     3399938    NaN  ...               1.033470           0.001227\n",
              "19996     3399950    NaN  ...                    NaN                NaN\n",
              "19997     3399966    NaN  ...                    NaN                NaN\n",
              "19998     3399970    NaN  ...                    NaN                NaN\n",
              "19999     3399986    NaN  ...                    NaN                NaN\n",
              "\n",
              "[20000 rows x 61 columns]"
            ]
          },
          "metadata": {},
          "execution_count": 55
        }
      ]
    },
    {
      "cell_type": "code",
      "source": [
        "from google.colab import drive\n",
        "drive.mount('/content/drive')"
      ],
      "metadata": {
        "colab": {
          "base_uri": "https://localhost:8080/"
        },
        "id": "sOKU3V202_2p",
        "outputId": "13c8fc2d-fc10-4039-8c1d-0722be3e8a9e"
      },
      "execution_count": null,
      "outputs": [
        {
          "output_type": "stream",
          "name": "stdout",
          "text": [
            "Drive already mounted at /content/drive; to attempt to forcibly remount, call drive.mount(\"/content/drive\", force_remount=True).\n"
          ]
        }
      ]
    },
    {
      "cell_type": "code",
      "source": [
        "#Checking for Missing Values\n",
        "missing_cols = []\n",
        "for i, v in (predict.isna().sum() / predict.shape[0] * 100).iteritems():\n",
        "  if v > 0:\n",
        "    missing_cols.append(i)\n",
        "\n",
        "#filling missing values with median of each column\n",
        "predict[missing_cols] = predict[missing_cols].fillna(predict[missing_cols].median(), axis=0)"
      ],
      "metadata": {
        "id": "A87sQsY-5Olg"
      },
      "execution_count": null,
      "outputs": []
    },
    {
      "cell_type": "code",
      "source": [
        "#Creating Dummy Variables\n",
        "predict = pd.get_dummies(predict, drop_first=True)"
      ],
      "metadata": {
        "id": "CdFQnjSlBCkm"
      },
      "execution_count": null,
      "outputs": []
    },
    {
      "cell_type": "code",
      "source": [
        "#Feature Scaling\n",
        "X = sc.fit_transform(predict)"
      ],
      "metadata": {
        "id": "z2k4fdLJBrnU"
      },
      "execution_count": null,
      "outputs": []
    },
    {
      "cell_type": "code",
      "source": [
        "churn_pred = rf.predict(X)\n",
        "\n",
        "#Adding a New Column to check Customers who are going to churn\n",
        "predict['Churn'] = churn_pred\n",
        "\n",
        "#Adding CustomerID column back to the predict dataframe\n",
        "predict['CustomerID'] = customer_id\n",
        "print(predict['Churn'].value_counts())\n",
        "\n",
        "#Customers who are going to churn\n",
        "predict.loc[predict['Churn'] == 1, ['CustomerID','Churn']]"
      ],
      "metadata": {
        "colab": {
          "base_uri": "https://localhost:8080/",
          "height": 476
        },
        "id": "_6uF7fXNB5NT",
        "outputId": "82bd26b9-5241-49a1-a42d-b080c858f3e7"
      },
      "execution_count": null,
      "outputs": [
        {
          "output_type": "stream",
          "name": "stdout",
          "text": [
            "0    17051\n",
            "1     2949\n",
            "Name: Churn, dtype: int64\n"
          ]
        },
        {
          "output_type": "execute_result",
          "data": {
            "text/html": [
              "<div>\n",
              "<style scoped>\n",
              "    .dataframe tbody tr th:only-of-type {\n",
              "        vertical-align: middle;\n",
              "    }\n",
              "\n",
              "    .dataframe tbody tr th {\n",
              "        vertical-align: top;\n",
              "    }\n",
              "\n",
              "    .dataframe thead th {\n",
              "        text-align: right;\n",
              "    }\n",
              "</style>\n",
              "<table border=\"1\" class=\"dataframe\">\n",
              "  <thead>\n",
              "    <tr style=\"text-align: right;\">\n",
              "      <th></th>\n",
              "      <th>CustomerID</th>\n",
              "      <th>Churn</th>\n",
              "    </tr>\n",
              "  </thead>\n",
              "  <tbody>\n",
              "    <tr>\n",
              "      <th>41</th>\n",
              "      <td>3000866</td>\n",
              "      <td>1</td>\n",
              "    </tr>\n",
              "    <tr>\n",
              "      <th>54</th>\n",
              "      <td>3001142</td>\n",
              "      <td>1</td>\n",
              "    </tr>\n",
              "    <tr>\n",
              "      <th>55</th>\n",
              "      <td>3001158</td>\n",
              "      <td>1</td>\n",
              "    </tr>\n",
              "    <tr>\n",
              "      <th>58</th>\n",
              "      <td>3001278</td>\n",
              "      <td>1</td>\n",
              "    </tr>\n",
              "    <tr>\n",
              "      <th>72</th>\n",
              "      <td>3001614</td>\n",
              "      <td>1</td>\n",
              "    </tr>\n",
              "    <tr>\n",
              "      <th>...</th>\n",
              "      <td>...</td>\n",
              "      <td>...</td>\n",
              "    </tr>\n",
              "    <tr>\n",
              "      <th>19924</th>\n",
              "      <td>3398434</td>\n",
              "      <td>1</td>\n",
              "    </tr>\n",
              "    <tr>\n",
              "      <th>19945</th>\n",
              "      <td>3398794</td>\n",
              "      <td>1</td>\n",
              "    </tr>\n",
              "    <tr>\n",
              "      <th>19954</th>\n",
              "      <td>3398990</td>\n",
              "      <td>1</td>\n",
              "    </tr>\n",
              "    <tr>\n",
              "      <th>19961</th>\n",
              "      <td>3399134</td>\n",
              "      <td>1</td>\n",
              "    </tr>\n",
              "    <tr>\n",
              "      <th>19981</th>\n",
              "      <td>3399734</td>\n",
              "      <td>1</td>\n",
              "    </tr>\n",
              "  </tbody>\n",
              "</table>\n",
              "<p>2949 rows × 2 columns</p>\n",
              "</div>"
            ],
            "text/plain": [
              "       CustomerID  Churn\n",
              "41        3000866      1\n",
              "54        3001142      1\n",
              "55        3001158      1\n",
              "58        3001278      1\n",
              "72        3001614      1\n",
              "...           ...    ...\n",
              "19924     3398434      1\n",
              "19945     3398794      1\n",
              "19954     3398990      1\n",
              "19961     3399134      1\n",
              "19981     3399734      1\n",
              "\n",
              "[2949 rows x 2 columns]"
            ]
          },
          "metadata": {},
          "execution_count": 60
        }
      ]
    },
    {
      "cell_type": "markdown",
      "metadata": {
        "id": "abauS3GolFIe"
      },
      "source": [
        "## Q6. [Bonus Question] Calculate lift chart and total monthly revenue saved by targeting top 10-20% of the customers using your best predictive model"
      ]
    },
    {
      "cell_type": "code",
      "metadata": {
        "id": "6q6go8_olFIe"
      },
      "source": [
        "#Type your code here to plot the lift chart from the best model\n",
        "#Identify the lift i.e. 3x of capturing churn with and without using the model \n",
        "#(Assume: only top 20% high risk customers are to be targetted)\n",
        "\n",
        "\n",
        "\n",
        "\n"
      ],
      "execution_count": null,
      "outputs": []
    },
    {
      "cell_type": "markdown",
      "metadata": {
        "id": "5BCprZwTlFIe"
      },
      "source": [
        "<mark>__Result:__\n",
        "    \n",
        "1. What is the % actual churn captured by targeting top 20% (top 2 deciles) of the customers sorted by their churn probability?\n",
        "2. What is the total monthly revenue of actual churn customers identified in the top 20% of the customers?\n",
        "   "
      ]
    }
  ]
}